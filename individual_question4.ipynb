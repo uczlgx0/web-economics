{
 "cells": [
  {
   "cell_type": "code",
   "execution_count": 1,
   "metadata": {},
   "outputs": [],
   "source": [
    "import pandas as pd\n",
    "filename = \"train.csv\"\n",
    "columns = ('click','hour','weekday','useragent', 'slotprice', 'region', 'city', 'slotwidth', 'slotheight', 'advertiser', 'usertag')\n",
    "df = pd.read_csv(filename,usecols=columns)\n"
   ]
  },
  {
   "cell_type": "code",
   "execution_count": 2,
   "metadata": {},
   "outputs": [],
   "source": [
    "df.insert(1,'browser',df['useragent'])\n",
    "browsers = []\n",
    "for name in df[\"useragent\"].map(lambda x:x.split('_')[1:][0]):\n",
    "    if name not in browsers:\n",
    "        browsers.append(name)\n",
    "data_bro = []\n",
    "for bro in df[\"useragent\"].map(lambda x:x.split('_')[1:][0]):\n",
    "    data_bro.append(browsers.index(bro))\n",
    "df['browser'] = data_bro\n",
    "    \n",
    "df.insert(1,'os',df['useragent'])\n",
    "\n",
    "oss = []\n",
    "for name in df[\"useragent\"].map(lambda x:x.split('_')[0]):\n",
    "    if name not in oss:\n",
    "        oss.append(name)\n",
    "data_os = []\n",
    "for os in df[\"useragent\"].map(lambda x:x.split('_')[0]):\n",
    "    data_os.append(oss.index(os))\n",
    "df['os'] = data_os\n",
    "\n",
    "df.insert(1,'size',df['slotwidth'])\n",
    "width = df['slotwidth'].astype('str')\n",
    "height = df['slotheight'].astype('str')\n",
    "size = width.str.cat(height, sep='*')\n",
    "df['size']=size\n",
    "del df['slotwidth']\n",
    "del df['slotheight']\n",
    "\n",
    "df.insert(1,'floorprice',df['slotprice'])\n",
    "floor = []\n",
    "for i in df[\"slotprice\"]:\n",
    "    if i in range(1,10):\n",
    "        floor.append(1)\n",
    "    elif i in range(11,50):\n",
    "        floor.append(2)\n",
    "    elif i in range(51,100):\n",
    "        floor.append(3)\n",
    "    elif i == 0:\n",
    "        floor.append(0)\n",
    "    else:\n",
    "        floor.append(4)\n",
    "df['floorprice'] = floor "
   ]
  },
  {
   "cell_type": "code",
   "execution_count": 3,
   "metadata": {},
   "outputs": [],
   "source": [
    "col = ['slotprice','size', 'os', 'browser']\n",
    "for column in col: \n",
    "    df[column]= pd.factorize(df[column].values , sort=True)[0] + 1 \n",
    "df['advertiser_n'] = pd.factorize(df['advertiser'].values , sort=True)[0] + 1 "
   ]
  },
  {
   "cell_type": "code",
   "execution_count": 4,
   "metadata": {},
   "outputs": [],
   "source": [
    "import collections\n",
    "users = collections.defaultdict()\n",
    "i = 0\n",
    "for user in df[\"usertag\"]:\n",
    "    users[i] = str(user).split(',')\n",
    "    i += 1\n",
    "s = pd.Series(users)\n",
    "usrtag = pd.get_dummies(s.apply(pd.Series).stack()).sum(level=0)\n",
    "del df[\"usertag\"]"
   ]
  },
  {
   "cell_type": "code",
   "execution_count": 6,
   "metadata": {},
   "outputs": [],
   "source": [
    "# dummy_price = pd.get_dummies(df['floorprice'], prefix='floorprice')  \n",
    "# dummy_os = pd.get_dummies(df['os'], prefix='os')  \n",
    "# dummy_browser = pd.get_dummies(df['browser'], prefix='browser')  \n",
    "# dummy_weekday = pd.get_dummies(df['weekday'], prefix='weekday') \n",
    "# dummy_hour = pd.get_dummies(df['hour'], prefix='hour') \n",
    "# # cols_to_keep = ['click'] \n",
    "# data_train = df.join(dummy_price)\n",
    "# data_train = data_train.join(dummy_os)\n",
    "# data_train = data_train.join(dummy_browser)\n",
    "# data_train = data_train.join(dummy_weekday)\n",
    "# data_train = data_train.join(dummy_hour)\n",
    "# data_train = data_train.join(usrtag)"
   ]
  },
  {
   "cell_type": "code",
   "execution_count": 5,
   "metadata": {},
   "outputs": [],
   "source": [
    "\n",
    "data_train = df.join(usrtag)"
   ]
  },
  {
   "cell_type": "code",
   "execution_count": 6,
   "metadata": {},
   "outputs": [],
   "source": [
    "del data_train['useragent']\n",
    "del data_train['nan']"
   ]
  },
  {
   "cell_type": "code",
   "execution_count": 7,
   "metadata": {},
   "outputs": [],
   "source": [
    "import numpy as np\n",
    "np.random.seed(10)\n",
    "\n",
    "import matplotlib.pyplot as plt\n",
    "\n",
    "from sklearn.datasets import make_classification\n",
    "from sklearn.linear_model import LogisticRegression\n",
    "from sklearn.ensemble import (RandomTreesEmbedding, RandomForestClassifier,\n",
    "                              GradientBoostingClassifier)\n",
    "from sklearn.preprocessing import OneHotEncoder\n",
    "from sklearn.model_selection import train_test_split\n",
    "from sklearn.metrics import roc_curve\n",
    "from sklearn.pipeline import make_pipeline"
   ]
  },
  {
   "cell_type": "code",
   "execution_count": 9,
   "metadata": {},
   "outputs": [],
   "source": [
    "X_train = data_train[data_train.columns[1:]]\n",
    "y_train = pd.DataFrame(data_train[data_train.columns[0]])\n",
    "X_train_lr = data_train[data_train.columns[1:]]\n",
    "y_train_lr = pd.DataFrame(data_train[data_train.columns[0]])"
   ]
  },
  {
   "cell_type": "code",
   "execution_count": 8,
   "metadata": {},
   "outputs": [],
   "source": [
    "train_advertisers = {}\n",
    "for name, group in data_train.groupby('advertiser'):\n",
    "    train_advertisers[name] = pd.DataFrame(group)"
   ]
  },
  {
   "cell_type": "code",
   "execution_count": 9,
   "metadata": {},
   "outputs": [],
   "source": [
    "adv_train_1458 = train_advertisers[1458]\n",
    "y_train_1458 = train_advertisers[1458]['click']\n",
    "adv_train_2259 = train_advertisers[2259]\n",
    "y_train_2259 = train_advertisers[2259]['click']\n",
    "adv_train_2261 = train_advertisers[2261]\n",
    "y_train_2261 = train_advertisers[2261]['click']\n",
    "adv_train_2821 = train_advertisers[2821]\n",
    "y_train_2821 = train_advertisers[2821]['click']\n",
    "adv_train_2997 = train_advertisers[2997]\n",
    "y_train_2997 = train_advertisers[2997]['click']\n",
    "adv_train_3358 = train_advertisers[3358]\n",
    "y_train_3358 = train_advertisers[3358]['click']\n",
    "adv_train_3386 = train_advertisers[3386]\n",
    "y_train_3386 = train_advertisers[3386]['click']\n",
    "adv_train_3427 = train_advertisers[3427]\n",
    "y_train_3427 = train_advertisers[3427]['click']\n",
    "adv_train_3476 = train_advertisers[3476]\n",
    "y_train_3476 = train_advertisers[3476]['click']"
   ]
  },
  {
   "cell_type": "code",
   "execution_count": 10,
   "metadata": {},
   "outputs": [],
   "source": [
    "del adv_train_1458['advertiser_n']\n",
    "del adv_train_1458['click']\n",
    "del adv_train_2259['advertiser_n']\n",
    "del adv_train_2259['click']\n",
    "del adv_train_2261['advertiser_n']\n",
    "del adv_train_2261['click']\n",
    "del adv_train_2821['advertiser_n']\n",
    "del adv_train_2821['click']\n",
    "del adv_train_2997['advertiser_n']\n",
    "del adv_train_2997['click']\n",
    "del adv_train_3358['advertiser_n']\n",
    "del adv_train_3358['click']\n",
    "del adv_train_3386['advertiser_n']\n",
    "del adv_train_3386['click']\n",
    "del adv_train_3427['advertiser_n']\n",
    "del adv_train_3427['click']\n",
    "del adv_train_3476['advertiser_n']\n",
    "del adv_train_3476['click']"
   ]
  },
  {
   "cell_type": "code",
   "execution_count": 13,
   "metadata": {},
   "outputs": [],
   "source": [
    "del X_train['advertiser']\n",
    "del X_train_lr['advertiser']"
   ]
  },
  {
   "cell_type": "code",
   "execution_count": 11,
   "metadata": {},
   "outputs": [],
   "source": [
    "import pandas as pd\n",
    "filename = \"validation.csv\"\n",
    "columns = ('click','hour','weekday','useragent', 'slotprice', 'region', 'city', 'slotwidth', 'slotheight', 'advertiser', 'usertag')\n",
    "df_val = pd.read_csv(filename,usecols=columns)\n",
    "df_val.insert(1,'browser',df_val['useragent'])\n",
    "browsers = []\n",
    "for name in df_val[\"useragent\"].map(lambda x:x.split('_')[1:][0]):\n",
    "    if name not in browsers:\n",
    "        browsers.append(name)\n",
    "data_bro = []\n",
    "for bro in df_val[\"useragent\"].map(lambda x:x.split('_')[1:][0]):\n",
    "    data_bro.append(browsers.index(bro))\n",
    "df_val['browser'] = data_bro\n",
    "    \n",
    "df_val.insert(1,'os',df_val['useragent'])\n",
    "\n",
    "oss = []\n",
    "for name in df_val[\"useragent\"].map(lambda x:x.split('_')[0]):\n",
    "    if name not in oss:\n",
    "        oss.append(name)\n",
    "data_os = []\n",
    "for os in df_val[\"useragent\"].map(lambda x:x.split('_')[0]):\n",
    "    data_os.append(oss.index(os))\n",
    "df_val['os'] = data_os\n",
    "\n",
    "df_val.insert(1,'size',df_val['slotwidth'])\n",
    "width = df_val['slotwidth'].astype('str')\n",
    "height = df_val['slotheight'].astype('str')\n",
    "size = width.str.cat(height, sep='*')\n",
    "df_val['size']=size\n",
    "\n",
    "\n",
    "del df_val['slotwidth']\n",
    "del df_val['slotheight']\n",
    "\n",
    "df_val.insert(1,'floorprice',df_val['slotprice'])\n",
    "floor = []\n",
    "for i in df_val[\"slotprice\"]:\n",
    "    if i in range(1,10):\n",
    "        floor.append(1)\n",
    "    elif i in range(11,50):\n",
    "        floor.append(2)\n",
    "    elif i in range(51,100):\n",
    "        floor.append(3)\n",
    "    elif i == 0:\n",
    "        floor.append(0)\n",
    "    else:\n",
    "        floor.append(4)\n",
    "df_val['floorprice'] = floor \n",
    "col = ['slotprice','size', 'os', 'browser']\n",
    "for column in col: \n",
    "    df_val[column]= pd.factorize(df_val[column].values , sort=True)[0] + 1\n",
    "df_val['advertiser_n']= pd.factorize(df_val['advertiser'].values , sort=True)[0] + 1\n",
    "\n",
    "\n",
    "import collections\n",
    "users = collections.defaultdict()\n",
    "i = 0\n",
    "for user in df_val[\"usertag\"]:\n",
    "    users[i] = str(user).split(',')\n",
    "    i += 1\n",
    "s = pd.Series(users)\n",
    "usrtag = pd.get_dummies(s.apply(pd.Series).stack()).sum(level=0)\n",
    "del df_val[\"usertag\"]\n",
    "\n",
    "# dummy_price = pd.get_dummies(df_val['floorprice'], prefix='floorprice')  \n",
    "# dummy_os = pd.get_dummies(df_val['os'], prefix='os')  \n",
    "# dummy_browser = pd.get_dummies(df_val['browser'], prefix='browser')  \n",
    "# dummy_weekday = pd.get_dummies(df_val['weekday'], prefix='weekday') \n",
    "# dummy_hour = pd.get_dummies(df_val['hour'], prefix='hour') \n",
    "# # cols_to_keep = ['click'] \n",
    "# data_val = df_val.join(dummy_price)\n",
    "# data_val = data_val.join(dummy_os)\n",
    "# data_val = data_val.join(dummy_browser)\n",
    "# data_val = data_val.join(dummy_weekday)\n",
    "# data_val = data_val.join(dummy_hour)\n",
    "# data_val = data_val.join(usrtag)\n",
    "\n",
    "\n",
    "data_val = df_val.join(usrtag)"
   ]
  },
  {
   "cell_type": "code",
   "execution_count": 12,
   "metadata": {},
   "outputs": [],
   "source": [
    "del data_val['nan']\n",
    "del data_val['useragent']"
   ]
  },
  {
   "cell_type": "code",
   "execution_count": 16,
   "metadata": {},
   "outputs": [],
   "source": [
    "X_val = data_val[data_val.columns[1:]]\n",
    "y_val = pd.DataFrame(data_val[data_val.columns[0]])\n",
    "X_val_lr = data_val[data_val.columns[1:]]\n",
    "y_val_lr = pd.DataFrame(data_val[data_val.columns[0]])"
   ]
  },
  {
   "cell_type": "code",
   "execution_count": 13,
   "metadata": {},
   "outputs": [],
   "source": [
    "val_advertisers = {}\n",
    "for name, group in data_val.groupby('advertiser'):\n",
    "    val_advertisers[name] = pd.DataFrame(group)\n"
   ]
  },
  {
   "cell_type": "code",
   "execution_count": 14,
   "metadata": {},
   "outputs": [],
   "source": [
    "adv_val_1458 = val_advertisers[1458]\n",
    "y_val_1458 = val_advertisers[1458]['click']\n",
    "adv_val_2259 = val_advertisers[2259]\n",
    "y_val_2259 = val_advertisers[2259]['click']\n",
    "adv_val_2261 = val_advertisers[2261]\n",
    "y_val_2261 = val_advertisers[2261]['click']\n",
    "adv_val_2821 = val_advertisers[2821]\n",
    "y_val_2821 = val_advertisers[2821]['click']\n",
    "adv_val_2997 = val_advertisers[2997]\n",
    "y_val_2997 = val_advertisers[2997]['click']\n",
    "adv_val_3358 = val_advertisers[3358]\n",
    "y_val_3358 = val_advertisers[3358]['click']\n",
    "adv_val_3386 = val_advertisers[3386]\n",
    "y_val_3386 = val_advertisers[3386]['click']\n",
    "adv_val_3427 = val_advertisers[3427]\n",
    "y_val_3427 = val_advertisers[3427]['click']\n",
    "adv_val_3476 = val_advertisers[3476]\n",
    "y_val_3476 = val_advertisers[3476]['click']"
   ]
  },
  {
   "cell_type": "code",
   "execution_count": 15,
   "metadata": {},
   "outputs": [],
   "source": [
    "del adv_val_1458['advertiser_n']\n",
    "del adv_val_1458['click']\n",
    "del adv_val_2259['advertiser_n']\n",
    "del adv_val_2259['click']\n",
    "del adv_val_2261['advertiser_n']\n",
    "del adv_val_2261['click']\n",
    "del adv_val_2821['advertiser_n']\n",
    "del adv_val_2821['click']\n",
    "del adv_val_2997['advertiser_n']\n",
    "del adv_val_2997['click']\n",
    "del adv_val_3358['advertiser_n']\n",
    "del adv_val_3358['click']\n",
    "del adv_val_3386['advertiser_n']\n",
    "del adv_val_3386['click']\n",
    "del adv_val_3427['advertiser_n']\n",
    "del adv_val_3427['click']\n",
    "del adv_val_3476['advertiser_n']\n",
    "del adv_val_3476['click']"
   ]
  },
  {
   "cell_type": "code",
   "execution_count": 20,
   "metadata": {},
   "outputs": [],
   "source": [
    "del X_val['advertiser']\n",
    "del X_val_lr['advertiser']"
   ]
  },
  {
   "cell_type": "code",
   "execution_count": 16,
   "metadata": {},
   "outputs": [],
   "source": [
    "y_val_1458 = pd.DataFrame(y_val_1458)\n",
    "y_val_2259 = pd.DataFrame(y_val_2259)\n",
    "y_val_2261 = pd.DataFrame(y_val_2261)\n",
    "y_val_2821 = pd.DataFrame(y_val_2821)\n",
    "y_val_2997 = pd.DataFrame(y_val_2997)\n",
    "y_val_3358 = pd.DataFrame(y_val_3358)\n",
    "y_val_3386 = pd.DataFrame(y_val_3386)\n",
    "y_val_3427 = pd.DataFrame(y_val_3427)\n",
    "y_val_3476 = pd.DataFrame(y_val_3476)\n",
    "\n",
    "y_train_1458 = pd.DataFrame(y_train_1458)\n",
    "y_train_2259 = pd.DataFrame(y_train_2259)\n",
    "y_train_2261 = pd.DataFrame(y_train_2261)\n",
    "y_train_2821 = pd.DataFrame(y_train_2821)\n",
    "y_train_2997 = pd.DataFrame(y_train_2997)\n",
    "y_train_3358 = pd.DataFrame(y_train_3358)\n",
    "y_train_3386 = pd.DataFrame(y_train_3386)\n",
    "y_train_3427 = pd.DataFrame(y_train_3427)\n",
    "y_train_3476 = pd.DataFrame(y_train_3476)"
   ]
  },
  {
   "cell_type": "code",
   "execution_count": 17,
   "metadata": {},
   "outputs": [],
   "source": [
    "y_val_1458.to_csv('y_val_1458.csv')\n",
    "y_val_2259.to_csv('y_val_2259.csv')\n",
    "y_val_2261.to_csv('y_val_2261.csv')\n",
    "y_val_2821.to_csv('y_val_2821.csv')\n",
    "y_val_2997.to_csv('y_val_2997.csv')\n",
    "y_val_3358.to_csv('y_val_3358.csv')\n",
    "y_val_3386.to_csv('y_val_3386.csv')\n",
    "y_val_3427.to_csv('y_val_3427.csv')\n",
    "y_val_3476.to_csv('y_val_3476.csv')\n",
    "\n",
    "y_train_1458.to_csv('y_train_1458.csv')\n",
    "y_train_2259.to_csv('y_train_2259.csv')\n",
    "y_train_2261.to_csv('y_train_2261.csv')\n",
    "y_train_2821.to_csv('y_train_2821.csv')\n",
    "y_train_2997.to_csv('y_train_2997.csv')\n",
    "y_train_3358.to_csv('y_train_3358.csv')\n",
    "y_train_3386.to_csv('y_train_3386.csv')\n",
    "y_train_3427.to_csv('y_train_3427.csv')\n",
    "y_train_3476.to_csv('y_train_3476.csv')\n",
    "y_train_3358.to_csv('y_train_3358.csv')"
   ]
  },
  {
   "cell_type": "code",
   "execution_count": 18,
   "metadata": {},
   "outputs": [],
   "source": [
    "adv_val_1458.to_csv('adv_val_1458.csv')\n",
    "adv_val_2259.to_csv('adv_val_2259.csv')\n",
    "adv_val_2261.to_csv('adv_val_2261.csv')\n",
    "adv_val_2821.to_csv('adv_val_2821.csv')\n",
    "adv_val_2997.to_csv('adv_val_2997.csv')\n",
    "adv_val_3358.to_csv('adv_val_3358.csv')\n",
    "adv_val_3386.to_csv('adv_val_3386.csv')\n",
    "adv_val_3427.to_csv('adv_val_3427.csv')\n",
    "adv_val_3476.to_csv('adv_val_3476.csv')\n"
   ]
  },
  {
   "cell_type": "code",
   "execution_count": 19,
   "metadata": {},
   "outputs": [],
   "source": [
    "adv_train_1458.to_csv('adv_train_1458.csv')\n",
    "adv_train_2259.to_csv('adv_train_2259.csv')\n",
    "adv_train_2261.to_csv('adv_train_2261.csv')\n",
    "adv_train_2821.to_csv('adv_train_2821.csv')\n",
    "adv_train_2997.to_csv('adv_train_2997.csv')\n",
    "adv_train_3358.to_csv('adv_train_3358.csv')\n",
    "adv_train_3427.to_csv('adv_train_3427.csv')\n",
    "adv_train_3476.to_csv('adv_train_3476.csv')\n",
    "adv_train_3386.to_csv('adv_train_3386.csv')\n",
    "\n"
   ]
  },
  {
   "cell_type": "code",
   "execution_count": 96,
   "metadata": {},
   "outputs": [],
   "source": [
    "X_val.to_csv('X_val.csv')\n",
    "X_val_lr.to_csv('X_val_lr.csv')\n",
    "X_train.to_csv('X_train.csv')\n",
    "X_train_lr.to_csv('X_train_lr.csv')"
   ]
  },
  {
   "cell_type": "code",
   "execution_count": 201,
   "metadata": {},
   "outputs": [],
   "source": [
    "y_val = pd.DataFrame(y_val)\n",
    "y_val_lr = pd.DataFrame(y_val_lr)\n",
    "y_train = pd.DataFrame(y_train)\n",
    "y_train_lr = pd.DataFrame(y_train_lr)"
   ]
  },
  {
   "cell_type": "code",
   "execution_count": 202,
   "metadata": {},
   "outputs": [],
   "source": [
    "y_val.to_csv('y_val.csv')\n",
    "y_val_lr.to_csv('y_val_lr.csv')\n",
    "y_train.to_csv('y_train.csv')\n",
    "y_train_lr.to_csv('y_train_lr.csv')"
   ]
  },
  {
   "cell_type": "code",
   "execution_count": 1,
   "metadata": {},
   "outputs": [],
   "source": [
    "import pandas as pd\n",
    "filename = \"adv_train_1458.csv\"\n",
    "adv_train_1458 = pd.read_csv(filename)\n",
    "\n",
    "filename = \"y_train_1458.csv\"\n",
    "y_train_1458 = pd.read_csv(filename)\n",
    "\n",
    "filename = \"adv_val_1458.csv\"\n",
    "adv_val_1458 = pd.read_csv(filename)\n",
    "\n",
    "filename = \"y_val_1458.csv\"\n",
    "y_val_1458 = pd.read_csv(filename)"
   ]
  },
  {
   "cell_type": "code",
   "execution_count": 2,
   "metadata": {},
   "outputs": [],
   "source": [
    "del adv_train_1458['Unnamed: 0']\n",
    "del y_val_1458['Unnamed: 0']\n",
    "del adv_val_1458['Unnamed: 0']\n",
    "del y_train_1458['Unnamed: 0']"
   ]
  },
  {
   "cell_type": "code",
   "execution_count": 3,
   "metadata": {},
   "outputs": [
    {
     "name": "stderr",
     "output_type": "stream",
     "text": [
      "/anaconda3/lib/python3.6/site-packages/sklearn/utils/validation.py:578: DataConversionWarning: A column-vector y was passed when a 1d array was expected. Please change the shape of y to (n_samples, ), for example using ravel().\n",
      "  y = column_or_1d(y, warn=True)\n"
     ]
    },
    {
     "name": "stdout",
     "output_type": "stream",
     "text": [
      "gbdt auc 1458: 0.95095\n"
     ]
    }
   ],
   "source": [
    "from scipy.sparse.construct import hstack\n",
    "from sklearn.model_selection import train_test_split\n",
    "from sklearn.datasets.svmlight_format import load_svmlight_file\n",
    "from sklearn.ensemble.gradient_boosting import GradientBoostingClassifier\n",
    "from sklearn.linear_model.logistic import LogisticRegression\n",
    "from sklearn.metrics.ranking import roc_auc_score\n",
    "from sklearn.preprocessing.data import OneHotEncoder\n",
    "import numpy as np\n",
    "\n",
    "gbdt_1458 = GradientBoostingClassifier(n_estimators=40, max_depth=3, verbose=0,max_features=0.5)\n",
    "\n",
    "gbdt_1458.fit(adv_train_1458, y_train_1458)\n",
    "y_pred_gbdt1458 = gbdt_1458.predict_proba(adv_val_1458)[:, 1]\n",
    "gbdt_auc1458 = roc_auc_score(y_val_1458, y_pred_gbdt1458)\n",
    "print('gbdt auc 1458: %.5f' % gbdt_auc1458)\n",
    "\n"
   ]
  },
  {
   "cell_type": "code",
   "execution_count": 4,
   "metadata": {},
   "outputs": [
    {
     "name": "stderr",
     "output_type": "stream",
     "text": [
      "/anaconda3/lib/python3.6/site-packages/sklearn/utils/validation.py:578: DataConversionWarning: A column-vector y was passed when a 1d array was expected. Please change the shape of y to (n_samples, ), for example using ravel().\n",
      "  y = column_or_1d(y, warn=True)\n"
     ]
    },
    {
     "name": "stdout",
     "output_type": "stream",
     "text": [
      "LR AUC 1458: 0.82172\n"
     ]
    }
   ],
   "source": [
    "lr = LogisticRegression()\n",
    "lr.fit(adv_train_1458, y_train_1458)    \n",
    "y_pred_test = lr.predict_proba(adv_val_1458)[:, 1]\n",
    "lr_test_auc = roc_auc_score(y_val_1458, y_pred_test)\n",
    "print('LR AUC 1458: %.5f' % lr_test_auc)"
   ]
  },
  {
   "cell_type": "code",
   "execution_count": 4,
   "metadata": {},
   "outputs": [],
   "source": [
    "X_train_leaves = gbdt_1458.apply(adv_train_1458)[:,:,0]\n",
    "X_test_leaves = gbdt_1458.apply(adv_val_1458)[:,:,0]\n",
    "(train_rows, cols) = X_train_leaves.shape\n",
    "gbdtenc = OneHotEncoder()\n",
    "X_trans = gbdtenc.fit_transform(np.concatenate((X_train_leaves, X_test_leaves), axis=0))\n",
    "\n"
   ]
  },
  {
   "cell_type": "code",
   "execution_count": 6,
   "metadata": {},
   "outputs": [
    {
     "name": "stderr",
     "output_type": "stream",
     "text": [
      "/anaconda3/lib/python3.6/site-packages/sklearn/utils/validation.py:578: DataConversionWarning: A column-vector y was passed when a 1d array was expected. Please change the shape of y to (n_samples, ), for example using ravel().\n",
      "  y = column_or_1d(y, warn=True)\n"
     ]
    },
    {
     "name": "stdout",
     "output_type": "stream",
     "text": [
      "基于GBDT特征编码后的LR AUC: 0.95577\n"
     ]
    }
   ],
   "source": [
    "lr = LogisticRegression()\n",
    "\n",
    "lr.fit(X_trans[:train_rows, :], y_train_1458)\n",
    "\n",
    "y_pred_gbdtlr1 = lr.predict_proba(X_trans[train_rows:, :])[:, 1]\n",
    "gbdt_lr_auc1 = roc_auc_score(y_val_1458, y_pred_gbdtlr1)\n",
    "print('GBDT+LR AUC 1458: %.5f' % gbdt_lr_auc1)"
   ]
  },
  {
   "cell_type": "code",
   "execution_count": 1,
   "metadata": {},
   "outputs": [],
   "source": [
    "import pandas as pd\n",
    "filename = \"adv_train_2259.csv\"\n",
    "adv_train_2259 = pd.read_csv(filename)\n",
    "\n",
    "filename = \"y_train_2259.csv\"\n",
    "y_train_2259 = pd.read_csv(filename)\n",
    "\n",
    "filename = \"adv_val_2259.csv\"\n",
    "adv_val_2259 = pd.read_csv(filename)\n",
    "\n",
    "filename = \"y_val_2259.csv\"\n",
    "y_val_2259 = pd.read_csv(filename)"
   ]
  },
  {
   "cell_type": "code",
   "execution_count": 2,
   "metadata": {},
   "outputs": [],
   "source": [
    "del adv_train_2259['Unnamed: 0']\n",
    "del y_val_2259['Unnamed: 0']\n",
    "del adv_val_2259['Unnamed: 0']\n",
    "del y_train_2259['Unnamed: 0']"
   ]
  },
  {
   "cell_type": "code",
   "execution_count": 3,
   "metadata": {},
   "outputs": [
    {
     "name": "stderr",
     "output_type": "stream",
     "text": [
      "/anaconda3/lib/python3.6/site-packages/sklearn/utils/validation.py:578: DataConversionWarning: A column-vector y was passed when a 1d array was expected. Please change the shape of y to (n_samples, ), for example using ravel().\n",
      "  y = column_or_1d(y, warn=True)\n"
     ]
    },
    {
     "name": "stdout",
     "output_type": "stream",
     "text": [
      "gbdt auc 2259: 0.50407\n"
     ]
    }
   ],
   "source": [
    "from scipy.sparse.construct import hstack\n",
    "from sklearn.model_selection import train_test_split\n",
    "from sklearn.datasets.svmlight_format import load_svmlight_file\n",
    "from sklearn.ensemble.gradient_boosting import GradientBoostingClassifier\n",
    "from sklearn.metrics.ranking import roc_auc_score\n",
    "from sklearn.preprocessing.data import OneHotEncoder\n",
    "import numpy as np\n",
    "\n",
    "gbdt_2259 = GradientBoostingClassifier(n_estimators=40, max_depth=3, verbose=0,max_features=0.5)\n",
    "\n",
    "gbdt_2259.fit(adv_train_2259, y_train_2259)\n",
    "y_pred_gbdt2259 = gbdt_2259.predict(adv_val_2259)\n",
    "gbdt_auc2259 = roc_auc_score(y_val_2259, y_pred_gbdt2259)\n",
    "print('gbdt auc 2259: %.5f' % gbdt_auc2259)\n",
    "\n",
    "\n"
   ]
  },
  {
   "cell_type": "code",
   "execution_count": 4,
   "metadata": {},
   "outputs": [
    {
     "name": "stderr",
     "output_type": "stream",
     "text": [
      "/anaconda3/lib/python3.6/site-packages/sklearn/utils/validation.py:578: DataConversionWarning: A column-vector y was passed when a 1d array was expected. Please change the shape of y to (n_samples, ), for example using ravel().\n",
      "  y = column_or_1d(y, warn=True)\n"
     ]
    },
    {
     "name": "stdout",
     "output_type": "stream",
     "text": [
      "LR AUC 2259: 0.50000\n"
     ]
    }
   ],
   "source": [
    "from sklearn.metrics.ranking import roc_auc_score\n",
    "from sklearn.linear_model.logistic import LogisticRegression\n",
    "lr = LogisticRegression()\n",
    "lr.fit(adv_train_2259, y_train_2259)    \n",
    "y_pred_test = lr.predict(adv_val_2259)\n",
    "lr_test_auc = roc_auc_score(y_val_2259, y_pred_test)\n",
    "print('LR AUC 2259: %.5f' % lr_test_auc)"
   ]
  },
  {
   "cell_type": "code",
   "execution_count": 4,
   "metadata": {},
   "outputs": [],
   "source": [
    "X_train_leaves = gbdt_2259.apply(adv_train_2259)[:,:,0]\n",
    "X_test_leaves = gbdt_2259.apply(adv_val_2259)[:,:,0]\n",
    "(train_rows, cols) = X_train_leaves.shape\n",
    "gbdtenc = OneHotEncoder()\n",
    "X_trans = gbdtenc.fit_transform(np.concatenate((X_train_leaves, X_test_leaves), axis=0))\n",
    "\n",
    "\n"
   ]
  },
  {
   "cell_type": "code",
   "execution_count": 5,
   "metadata": {},
   "outputs": [
    {
     "name": "stderr",
     "output_type": "stream",
     "text": [
      "/anaconda3/lib/python3.6/site-packages/sklearn/utils/validation.py:578: DataConversionWarning: A column-vector y was passed when a 1d array was expected. Please change the shape of y to (n_samples, ), for example using ravel().\n",
      "  y = column_or_1d(y, warn=True)\n"
     ]
    },
    {
     "name": "stdout",
     "output_type": "stream",
     "text": [
      "GBDT+LR AUC 2259: 0.39338\n"
     ]
    }
   ],
   "source": [
    "from sklearn.metrics.ranking import roc_auc_score\n",
    "from sklearn.linear_model.logistic import LogisticRegression\n",
    "lr = LogisticRegression()\n",
    "\n",
    "lr.fit(X_trans[:train_rows, :], y_train_2259)\n",
    "\n",
    "y_pred_gbdtlr1 = lr.predict(X_trans[train_rows:, :])\n",
    "gbdt_lr_auc1 = roc_auc_score(y_val_2259, y_pred_gbdtlr1)\n",
    "print('GBDT+LR AUC 2259: %.5f' % gbdt_lr_auc1)"
   ]
  },
  {
   "cell_type": "code",
   "execution_count": 1,
   "metadata": {},
   "outputs": [],
   "source": [
    "import pandas as pd\n",
    "filename = \"adv_train_2261.csv\"\n",
    "adv_train_2261 = pd.read_csv(filename)\n",
    "\n",
    "filename = \"y_train_2261.csv\"\n",
    "y_train_2261 = pd.read_csv(filename)\n",
    "\n",
    "filename = \"adv_val_2261.csv\"\n",
    "adv_val_2261 = pd.read_csv(filename)\n",
    "\n",
    "filename = \"y_val_2261.csv\"\n",
    "y_val_2261 = pd.read_csv(filename)"
   ]
  },
  {
   "cell_type": "code",
   "execution_count": 2,
   "metadata": {},
   "outputs": [],
   "source": [
    "del adv_train_2261['Unnamed: 0']\n",
    "del y_val_2261['Unnamed: 0']\n",
    "del adv_val_2261['Unnamed: 0']\n",
    "del y_train_2261['Unnamed: 0']"
   ]
  },
  {
   "cell_type": "code",
   "execution_count": 3,
   "metadata": {},
   "outputs": [
    {
     "name": "stderr",
     "output_type": "stream",
     "text": [
      "/anaconda3/lib/python3.6/site-packages/sklearn/utils/validation.py:578: DataConversionWarning: A column-vector y was passed when a 1d array was expected. Please change the shape of y to (n_samples, ), for example using ravel().\n",
      "  y = column_or_1d(y, warn=True)\n"
     ]
    },
    {
     "name": "stdout",
     "output_type": "stream",
     "text": [
      "gbdt auc 2261: 0.66647\n"
     ]
    }
   ],
   "source": [
    "from scipy.sparse.construct import hstack\n",
    "from sklearn.model_selection import train_test_split\n",
    "from sklearn.datasets.svmlight_format import load_svmlight_file\n",
    "from sklearn.ensemble.gradient_boosting import GradientBoostingClassifier\n",
    "from sklearn.linear_model.logistic import LogisticRegression\n",
    "from sklearn.metrics.ranking import roc_auc_score\n",
    "from sklearn.preprocessing.data import OneHotEncoder\n",
    "import numpy as np\n",
    "\n",
    "gbdt_2261 = GradientBoostingClassifier(n_estimators=40, max_depth=3, verbose=0,max_features=0.5)\n",
    "\n",
    "gbdt_2261.fit(adv_train_2261, y_train_2261)\n",
    "y_pred_gbdt2261 = gbdt_2261.predict_proba(adv_val_2261)[:, 1]\n",
    "gbdt_auc2261 = roc_auc_score(y_val_2261, y_pred_gbdt2261)\n",
    "print('gbdt auc 2261: %.5f' % gbdt_auc2261)\n",
    "\n",
    "\n",
    "\n"
   ]
  },
  {
   "cell_type": "code",
   "execution_count": 6,
   "metadata": {},
   "outputs": [
    {
     "name": "stderr",
     "output_type": "stream",
     "text": [
      "/anaconda3/lib/python3.6/site-packages/sklearn/utils/validation.py:578: DataConversionWarning: A column-vector y was passed when a 1d array was expected. Please change the shape of y to (n_samples, ), for example using ravel().\n",
      "  y = column_or_1d(y, warn=True)\n"
     ]
    },
    {
     "name": "stdout",
     "output_type": "stream",
     "text": [
      "LR AUC 2261: 0.58552\n"
     ]
    }
   ],
   "source": [
    "\n",
    "from sklearn.linear_model.logistic import LogisticRegression\n",
    "from sklearn.metrics.ranking import roc_auc_score\n",
    "\n",
    "lr = LogisticRegression()\n",
    "lr.fit(adv_train_2261, y_train_2261)    \n",
    "y_pred_test = lr.predict_proba(adv_val_2261)[:, 1]\n",
    "lr_test_auc = roc_auc_score(y_val_2261, y_pred_test)\n",
    "print('LR AUC 2261: %.5f' % lr_test_auc)"
   ]
  },
  {
   "cell_type": "code",
   "execution_count": 4,
   "metadata": {},
   "outputs": [],
   "source": [
    "X_train_leaves = gbdt_2261.apply(adv_train_2261)[:,:,0]\n",
    "X_test_leaves = gbdt_2261.apply(adv_val_2261)[:,:,0]\n",
    "(train_rows, cols) = X_train_leaves.shape\n",
    "gbdtenc = OneHotEncoder()\n",
    "X_trans = gbdtenc.fit_transform(np.concatenate((X_train_leaves, X_test_leaves), axis=0))\n"
   ]
  },
  {
   "cell_type": "code",
   "execution_count": 5,
   "metadata": {},
   "outputs": [
    {
     "name": "stderr",
     "output_type": "stream",
     "text": [
      "/anaconda3/lib/python3.6/site-packages/sklearn/utils/validation.py:578: DataConversionWarning: A column-vector y was passed when a 1d array was expected. Please change the shape of y to (n_samples, ), for example using ravel().\n",
      "  y = column_or_1d(y, warn=True)\n"
     ]
    },
    {
     "name": "stdout",
     "output_type": "stream",
     "text": [
      "GBDT+LR AUC 2261: 0.87845\n"
     ]
    }
   ],
   "source": [
    "lr = LogisticRegression()\n",
    "\n",
    "lr.fit(X_trans[:train_rows, :], y_train_2261)\n",
    "\n",
    "y_pred_gbdtlr1 = lr.predict_proba(X_trans[train_rows:, :])[:, 1]\n",
    "gbdt_lr_auc1 = roc_auc_score(y_val_2261, y_pred_gbdtlr1)\n",
    "print('GBDT+LR AUC 2261: %.5f' % gbdt_lr_auc1)"
   ]
  },
  {
   "cell_type": "code",
   "execution_count": null,
   "metadata": {},
   "outputs": [],
   "source": []
  },
  {
   "cell_type": "code",
   "execution_count": 1,
   "metadata": {},
   "outputs": [],
   "source": [
    "import pandas as pd\n",
    "filename = \"adv_train_2821.csv\"\n",
    "adv_train_2821 = pd.read_csv(filename)\n",
    "\n",
    "filename = \"y_train_2821.csv\"\n",
    "y_train_2821 = pd.read_csv(filename)\n",
    "\n",
    "filename = \"adv_val_2821.csv\"\n",
    "adv_val_2821 = pd.read_csv(filename)\n",
    "\n",
    "filename = \"y_val_2821.csv\"\n",
    "y_val_2821 = pd.read_csv(filename)"
   ]
  },
  {
   "cell_type": "code",
   "execution_count": 2,
   "metadata": {},
   "outputs": [],
   "source": [
    "del adv_train_2821['Unnamed: 0']\n",
    "del y_val_2821['Unnamed: 0']\n",
    "del adv_val_2821['Unnamed: 0']\n",
    "del y_train_2821['Unnamed: 0']"
   ]
  },
  {
   "cell_type": "code",
   "execution_count": 3,
   "metadata": {},
   "outputs": [
    {
     "name": "stderr",
     "output_type": "stream",
     "text": [
      "/anaconda3/lib/python3.6/site-packages/sklearn/utils/validation.py:578: DataConversionWarning: A column-vector y was passed when a 1d array was expected. Please change the shape of y to (n_samples, ), for example using ravel().\n",
      "  y = column_or_1d(y, warn=True)\n"
     ]
    },
    {
     "name": "stdout",
     "output_type": "stream",
     "text": [
      "gbdt auc 2821: 0.54296\n"
     ]
    }
   ],
   "source": [
    "from scipy.sparse.construct import hstack\n",
    "from sklearn.model_selection import train_test_split\n",
    "from sklearn.datasets.svmlight_format import load_svmlight_file\n",
    "from sklearn.ensemble.gradient_boosting import GradientBoostingClassifier\n",
    "from sklearn.linear_model.logistic import LogisticRegression\n",
    "from sklearn.metrics.ranking import roc_auc_score\n",
    "from sklearn.preprocessing.data import OneHotEncoder\n",
    "import numpy as np\n",
    "\n",
    "gbdt_2821 = GradientBoostingClassifier(n_estimators=40, max_depth=3, verbose=0,max_features=0.5)\n",
    "\n",
    "gbdt_2821.fit(adv_train_2821, y_train_2821)\n",
    "y_pred_gbdt2821 = gbdt_2821.predict_proba(adv_val_2821)[:, 1]\n",
    "gbdt_auc2821 = roc_auc_score(y_val_2821, y_pred_gbdt2821)\n",
    "print('gbdt auc 2821: %.5f' % gbdt_auc2821)\n",
    "\n",
    "\n",
    "\n",
    "\n"
   ]
  },
  {
   "cell_type": "code",
   "execution_count": 3,
   "metadata": {},
   "outputs": [
    {
     "name": "stderr",
     "output_type": "stream",
     "text": [
      "/anaconda3/lib/python3.6/site-packages/sklearn/utils/validation.py:578: DataConversionWarning: A column-vector y was passed when a 1d array was expected. Please change the shape of y to (n_samples, ), for example using ravel().\n",
      "  y = column_or_1d(y, warn=True)\n"
     ]
    },
    {
     "name": "stdout",
     "output_type": "stream",
     "text": [
      "LR AUC 2821: 0.50167\n"
     ]
    }
   ],
   "source": [
    "\n",
    "from sklearn.linear_model.logistic import LogisticRegression\n",
    "from sklearn.metrics.ranking import roc_auc_score\n",
    "\n",
    "lr = LogisticRegression()\n",
    "lr.fit(adv_train_2821, y_train_2821)    \n",
    "y_pred_test = lr.predict_proba(adv_val_2821)[:, 1]\n",
    "lr_test_auc = roc_auc_score(y_val_2821, y_pred_test)\n",
    "print('LR AUC 2821: %.5f' % lr_test_auc)"
   ]
  },
  {
   "cell_type": "code",
   "execution_count": 5,
   "metadata": {},
   "outputs": [],
   "source": [
    "X_train_leaves = gbdt_2821.apply(adv_train_2821)[:,:,0]\n",
    "X_test_leaves = gbdt_2821.apply(adv_val_2821)[:,:,0]\n",
    "(train_rows, cols) = X_train_leaves.shape\n",
    "gbdtenc = OneHotEncoder()\n",
    "X_trans = gbdtenc.fit_transform(np.concatenate((X_train_leaves, X_test_leaves), axis=0))\n",
    "\n"
   ]
  },
  {
   "cell_type": "code",
   "execution_count": 6,
   "metadata": {},
   "outputs": [
    {
     "name": "stderr",
     "output_type": "stream",
     "text": [
      "/anaconda3/lib/python3.6/site-packages/sklearn/utils/validation.py:578: DataConversionWarning: A column-vector y was passed when a 1d array was expected. Please change the shape of y to (n_samples, ), for example using ravel().\n",
      "  y = column_or_1d(y, warn=True)\n"
     ]
    },
    {
     "name": "stdout",
     "output_type": "stream",
     "text": [
      "GBDT+LR AUC 2821: 0.56635\n"
     ]
    }
   ],
   "source": [
    "lr = LogisticRegression()\n",
    "\n",
    "lr.fit(X_trans[:train_rows, :], y_train_2821)\n",
    "\n",
    "y_pred_gbdtlr1 = lr.predict_proba(X_trans[train_rows:, :])[:, 1]\n",
    "gbdt_lr_auc1 = roc_auc_score(y_val_2821, y_pred_gbdtlr1)\n",
    "print('GBDT+LR AUC 2821: %.5f' % gbdt_lr_auc1)"
   ]
  },
  {
   "cell_type": "code",
   "execution_count": 1,
   "metadata": {},
   "outputs": [],
   "source": [
    "import pandas as pd\n",
    "filename = \"adv_train_2997.csv\"\n",
    "adv_train_2997 = pd.read_csv(filename)\n",
    "\n",
    "filename = \"y_train_2997.csv\"\n",
    "y_train_2997 = pd.read_csv(filename)\n",
    "\n",
    "filename = \"adv_val_2997.csv\"\n",
    "adv_val_2997 = pd.read_csv(filename)\n",
    "\n",
    "filename = \"y_val_2997.csv\"\n",
    "y_val_2997 = pd.read_csv(filename)"
   ]
  },
  {
   "cell_type": "code",
   "execution_count": 2,
   "metadata": {},
   "outputs": [],
   "source": [
    "del adv_train_2997['Unnamed: 0']\n",
    "del y_val_2997['Unnamed: 0']\n",
    "del adv_val_2997['Unnamed: 0']\n",
    "del y_train_2997['Unnamed: 0']"
   ]
  },
  {
   "cell_type": "code",
   "execution_count": 3,
   "metadata": {},
   "outputs": [
    {
     "name": "stderr",
     "output_type": "stream",
     "text": [
      "/anaconda3/lib/python3.6/site-packages/sklearn/utils/validation.py:578: DataConversionWarning: A column-vector y was passed when a 1d array was expected. Please change the shape of y to (n_samples, ), for example using ravel().\n",
      "  y = column_or_1d(y, warn=True)\n"
     ]
    },
    {
     "name": "stdout",
     "output_type": "stream",
     "text": [
      "gbdt auc 2997: 0.60564\n"
     ]
    }
   ],
   "source": [
    "from scipy.sparse.construct import hstack\n",
    "from sklearn.model_selection import train_test_split\n",
    "from sklearn.datasets.svmlight_format import load_svmlight_file\n",
    "from sklearn.ensemble.gradient_boosting import GradientBoostingClassifier\n",
    "from sklearn.linear_model.logistic import LogisticRegression\n",
    "from sklearn.metrics.ranking import roc_auc_score\n",
    "from sklearn.preprocessing.data import OneHotEncoder\n",
    "import numpy as np\n",
    "\n",
    "gbdt_2997 = GradientBoostingClassifier(n_estimators=40, max_depth=3, verbose=0,max_features=0.5)\n",
    "\n",
    "gbdt_2997.fit(adv_train_2997, y_train_2997)\n",
    "y_pred_gbdt2997 = gbdt_2997.predict_proba(adv_val_2997)[:, 1]\n",
    "gbdt_auc2997 = roc_auc_score(y_val_2997, y_pred_gbdt2997)\n",
    "print('gbdt auc 2997: %.5f' % gbdt_auc2997)"
   ]
  },
  {
   "cell_type": "code",
   "execution_count": 4,
   "metadata": {},
   "outputs": [
    {
     "name": "stderr",
     "output_type": "stream",
     "text": [
      "/anaconda3/lib/python3.6/site-packages/sklearn/utils/validation.py:578: DataConversionWarning: A column-vector y was passed when a 1d array was expected. Please change the shape of y to (n_samples, ), for example using ravel().\n",
      "  y = column_or_1d(y, warn=True)\n"
     ]
    },
    {
     "name": "stdout",
     "output_type": "stream",
     "text": [
      "LR AUC 2997: 0.70655\n"
     ]
    }
   ],
   "source": [
    "\n",
    "from sklearn.linear_model.logistic import LogisticRegression\n",
    "from sklearn.metrics.ranking import roc_auc_score\n",
    "\n",
    "lr = LogisticRegression()\n",
    "lr.fit(adv_train_2997, y_train_2997)    \n",
    "y_pred_test = lr.predict_proba(adv_val_2997)[:, 1]\n",
    "lr_test_auc = roc_auc_score(y_val_2997, y_pred_test)\n",
    "print('LR AUC 2997: %.5f' % lr_test_auc)"
   ]
  },
  {
   "cell_type": "code",
   "execution_count": 4,
   "metadata": {},
   "outputs": [],
   "source": [
    "X_train_leaves = gbdt_2997.apply(adv_train_2997)[:,:,0]\n",
    "X_test_leaves = gbdt_2997.apply(adv_val_2997)[:,:,0]\n",
    "(train_rows, cols) = X_train_leaves.shape\n",
    "gbdtenc = OneHotEncoder()\n",
    "X_trans = gbdtenc.fit_transform(np.concatenate((X_train_leaves, X_test_leaves), axis=0))\n"
   ]
  },
  {
   "cell_type": "code",
   "execution_count": 5,
   "metadata": {},
   "outputs": [
    {
     "name": "stderr",
     "output_type": "stream",
     "text": [
      "/anaconda3/lib/python3.6/site-packages/sklearn/utils/validation.py:578: DataConversionWarning: A column-vector y was passed when a 1d array was expected. Please change the shape of y to (n_samples, ), for example using ravel().\n",
      "  y = column_or_1d(y, warn=True)\n"
     ]
    },
    {
     "name": "stdout",
     "output_type": "stream",
     "text": [
      "GBDT+LR AUC 2997: 0.61134\n"
     ]
    }
   ],
   "source": [
    "lr = LogisticRegression()\n",
    "\n",
    "lr.fit(X_trans[:train_rows, :], y_train_2997)\n",
    "\n",
    "y_pred_gbdtlr1 = lr.predict_proba(X_trans[train_rows:, :])[:, 1]\n",
    "gbdt_lr_auc1 = roc_auc_score(y_val_2997, y_pred_gbdtlr1)\n",
    "print('GBDT+LR AUC 2997: %.5f' % gbdt_lr_auc1)"
   ]
  },
  {
   "cell_type": "code",
   "execution_count": null,
   "metadata": {},
   "outputs": [],
   "source": []
  },
  {
   "cell_type": "code",
   "execution_count": null,
   "metadata": {},
   "outputs": [],
   "source": []
  },
  {
   "cell_type": "code",
   "execution_count": 1,
   "metadata": {},
   "outputs": [],
   "source": [
    "import pandas as pd\n",
    "filename = \"adv_train_3358.csv\"\n",
    "adv_train_3358 = pd.read_csv(filename)\n",
    "\n",
    "filename = \"y_train_3358.csv\"\n",
    "y_train_3358 = pd.read_csv(filename)\n",
    "\n",
    "filename = \"adv_val_3358.csv\"\n",
    "adv_val_3358 = pd.read_csv(filename)\n",
    "\n",
    "filename = \"y_val_3358.csv\"\n",
    "y_val_3358 = pd.read_csv(filename)"
   ]
  },
  {
   "cell_type": "code",
   "execution_count": 2,
   "metadata": {},
   "outputs": [],
   "source": [
    "del adv_train_3358['Unnamed: 0']\n",
    "del y_val_3358['Unnamed: 0']\n",
    "del adv_val_3358['Unnamed: 0']\n",
    "del y_train_3358['Unnamed: 0']"
   ]
  },
  {
   "cell_type": "code",
   "execution_count": 3,
   "metadata": {},
   "outputs": [
    {
     "name": "stderr",
     "output_type": "stream",
     "text": [
      "/anaconda3/lib/python3.6/site-packages/sklearn/utils/validation.py:578: DataConversionWarning: A column-vector y was passed when a 1d array was expected. Please change the shape of y to (n_samples, ), for example using ravel().\n",
      "  y = column_or_1d(y, warn=True)\n"
     ]
    },
    {
     "name": "stdout",
     "output_type": "stream",
     "text": [
      "gbdt auc 3358: 0.89625\n"
     ]
    }
   ],
   "source": [
    "from scipy.sparse.construct import hstack\n",
    "from sklearn.model_selection import train_test_split\n",
    "from sklearn.datasets.svmlight_format import load_svmlight_file\n",
    "from sklearn.ensemble.gradient_boosting import GradientBoostingClassifier\n",
    "from sklearn.linear_model.logistic import LogisticRegression\n",
    "from sklearn.metrics.ranking import roc_auc_score\n",
    "from sklearn.preprocessing.data import OneHotEncoder\n",
    "import numpy as np\n",
    "\n",
    "gbdt_3358 = GradientBoostingClassifier(n_estimators=40, max_depth=3, verbose=0,max_features=0.5)\n",
    "\n",
    "gbdt_3358.fit(adv_train_3358, y_train_3358)\n",
    "y_pred_gbdt3358 = gbdt_3358.predict_proba(adv_val_3358)[:, 1]\n",
    "gbdt_auc3358 = roc_auc_score(y_val_3358, y_pred_gbdt3358)\n",
    "print('gbdt auc 3358: %.5f' % gbdt_auc3358)\n"
   ]
  },
  {
   "cell_type": "code",
   "execution_count": 6,
   "metadata": {},
   "outputs": [
    {
     "name": "stderr",
     "output_type": "stream",
     "text": [
      "/anaconda3/lib/python3.6/site-packages/sklearn/utils/validation.py:578: DataConversionWarning: A column-vector y was passed when a 1d array was expected. Please change the shape of y to (n_samples, ), for example using ravel().\n",
      "  y = column_or_1d(y, warn=True)\n"
     ]
    },
    {
     "name": "stdout",
     "output_type": "stream",
     "text": [
      "LR AUC 3358: 0.94068\n"
     ]
    }
   ],
   "source": [
    "\n",
    "from sklearn.linear_model.logistic import LogisticRegression\n",
    "from sklearn.metrics.ranking import roc_auc_score\n",
    "\n",
    "lr = LogisticRegression()\n",
    "lr.fit(adv_train_3358, y_train_3358)    # 预测及AUC评测\n",
    "y_pred_test = lr.predict_proba(adv_val_3358)[:, 1]\n",
    "lr_test_auc = roc_auc_score(y_val_3358, y_pred_test)\n",
    "print('LR AUC 3358: %.5f' % lr_test_auc)"
   ]
  },
  {
   "cell_type": "code",
   "execution_count": 4,
   "metadata": {},
   "outputs": [],
   "source": [
    "X_train_leaves = gbdt_3358.apply(adv_train_3358)[:,:,0]\n",
    "X_test_leaves = gbdt_3358.apply(adv_val_3358)[:,:,0]\n",
    "(train_rows, cols) = X_train_leaves.shape\n",
    "gbdtenc = OneHotEncoder()\n",
    "X_trans = gbdtenc.fit_transform(np.concatenate((X_train_leaves, X_test_leaves), axis=0))\n"
   ]
  },
  {
   "cell_type": "code",
   "execution_count": 5,
   "metadata": {},
   "outputs": [
    {
     "name": "stderr",
     "output_type": "stream",
     "text": [
      "/anaconda3/lib/python3.6/site-packages/sklearn/utils/validation.py:578: DataConversionWarning: A column-vector y was passed when a 1d array was expected. Please change the shape of y to (n_samples, ), for example using ravel().\n",
      "  y = column_or_1d(y, warn=True)\n"
     ]
    },
    {
     "name": "stdout",
     "output_type": "stream",
     "text": [
      "GBDT+LR AUC 3358: 0.91249\n"
     ]
    }
   ],
   "source": [
    "lr = LogisticRegression()\n",
    "\n",
    "lr.fit(X_trans[:train_rows, :], y_train_3358)\n",
    "\n",
    "y_pred_gbdtlr1 = lr.predict_proba(X_trans[train_rows:, :])[:, 1]\n",
    "gbdt_lr_auc1 = roc_auc_score(y_val_3358, y_pred_gbdtlr1)\n",
    "print('GBDT+LR AUC 3358: %.5f' % gbdt_lr_auc1)"
   ]
  },
  {
   "cell_type": "code",
   "execution_count": null,
   "metadata": {},
   "outputs": [],
   "source": []
  },
  {
   "cell_type": "code",
   "execution_count": null,
   "metadata": {},
   "outputs": [],
   "source": []
  },
  {
   "cell_type": "code",
   "execution_count": 1,
   "metadata": {},
   "outputs": [],
   "source": [
    "import pandas as pd\n",
    "filename = \"adv_train_3427.csv\"\n",
    "adv_train_3427 = pd.read_csv(filename)\n",
    "\n",
    "filename = \"y_train_3427.csv\"\n",
    "y_train_3427 = pd.read_csv(filename)\n",
    "\n",
    "filename = \"adv_val_3427.csv\"\n",
    "adv_val_3427 = pd.read_csv(filename)\n",
    "\n",
    "filename = \"y_val_3427.csv\"\n",
    "y_val_3427 = pd.read_csv(filename)"
   ]
  },
  {
   "cell_type": "code",
   "execution_count": 2,
   "metadata": {},
   "outputs": [],
   "source": [
    "del adv_train_3427['Unnamed: 0']\n",
    "del y_val_3427['Unnamed: 0']\n",
    "del adv_val_3427['Unnamed: 0']\n",
    "del y_train_3427['Unnamed: 0']"
   ]
  },
  {
   "cell_type": "code",
   "execution_count": 3,
   "metadata": {},
   "outputs": [
    {
     "name": "stderr",
     "output_type": "stream",
     "text": [
      "/anaconda3/lib/python3.6/site-packages/sklearn/utils/validation.py:578: DataConversionWarning: A column-vector y was passed when a 1d array was expected. Please change the shape of y to (n_samples, ), for example using ravel().\n",
      "  y = column_or_1d(y, warn=True)\n"
     ]
    },
    {
     "name": "stdout",
     "output_type": "stream",
     "text": [
      "gbdt auc 3427: 0.84665\n"
     ]
    }
   ],
   "source": [
    "from scipy.sparse.construct import hstack\n",
    "from sklearn.model_selection import train_test_split\n",
    "from sklearn.datasets.svmlight_format import load_svmlight_file\n",
    "from sklearn.ensemble.gradient_boosting import GradientBoostingClassifier\n",
    "from sklearn.linear_model.logistic import LogisticRegression\n",
    "from sklearn.metrics.ranking import roc_auc_score\n",
    "from sklearn.preprocessing.data import OneHotEncoder\n",
    "import numpy as np\n",
    "\n",
    "gbdt_3427 = GradientBoostingClassifier(n_estimators=40, max_depth=3, verbose=0,max_features=0.5)\n",
    "\n",
    "gbdt_3427.fit(adv_train_3427, y_train_3427)\n",
    "y_pred_gbdt3427 = gbdt_3427.predict_proba(adv_val_3427)[:, 1]\n",
    "gbdt_auc3427 = roc_auc_score(y_val_3427, y_pred_gbdt3427)\n",
    "print('gbdt auc 3427: %.5f' % gbdt_auc3427)\n",
    "\n"
   ]
  },
  {
   "cell_type": "code",
   "execution_count": 6,
   "metadata": {},
   "outputs": [
    {
     "name": "stderr",
     "output_type": "stream",
     "text": [
      "/anaconda3/lib/python3.6/site-packages/sklearn/utils/validation.py:578: DataConversionWarning: A column-vector y was passed when a 1d array was expected. Please change the shape of y to (n_samples, ), for example using ravel().\n",
      "  y = column_or_1d(y, warn=True)\n"
     ]
    },
    {
     "name": "stdout",
     "output_type": "stream",
     "text": [
      "LR AUC 3427: 0.86618\n"
     ]
    }
   ],
   "source": [
    "\n",
    "from sklearn.linear_model.logistic import LogisticRegression\n",
    "from sklearn.metrics.ranking import roc_auc_score\n",
    "\n",
    "lr = LogisticRegression()\n",
    "lr.fit(adv_train_3427, y_train_3427)    # 预测及AUC评测\n",
    "y_pred_test = lr.predict_proba(adv_val_3427)[:, 1]\n",
    "lr_test_auc = roc_auc_score(y_val_3427, y_pred_test)\n",
    "print('LR AUC 3427: %.5f' % lr_test_auc)"
   ]
  },
  {
   "cell_type": "code",
   "execution_count": 4,
   "metadata": {},
   "outputs": [],
   "source": [
    "X_train_leaves = gbdt_3427.apply(adv_train_3427)[:,:,0]\n",
    "X_test_leaves = gbdt_3427.apply(adv_val_3427)[:,:,0]\n",
    "(train_rows, cols) = X_train_leaves.shape\n",
    "gbdtenc = OneHotEncoder()\n",
    "X_trans = gbdtenc.fit_transform(np.concatenate((X_train_leaves, X_test_leaves), axis=0))\n",
    "\n"
   ]
  },
  {
   "cell_type": "code",
   "execution_count": 5,
   "metadata": {},
   "outputs": [
    {
     "name": "stderr",
     "output_type": "stream",
     "text": [
      "/anaconda3/lib/python3.6/site-packages/sklearn/utils/validation.py:578: DataConversionWarning: A column-vector y was passed when a 1d array was expected. Please change the shape of y to (n_samples, ), for example using ravel().\n",
      "  y = column_or_1d(y, warn=True)\n"
     ]
    },
    {
     "name": "stdout",
     "output_type": "stream",
     "text": [
      "GBDT+LR AUC 3427: 0.92116\n"
     ]
    }
   ],
   "source": [
    "lr = LogisticRegression()\n",
    "\n",
    "lr.fit(X_trans[:train_rows, :], y_train_3427)\n",
    "\n",
    "y_pred_gbdtlr1 = lr.predict_proba(X_trans[train_rows:, :])[:, 1]\n",
    "gbdt_lr_auc1 = roc_auc_score(y_val_3427, y_pred_gbdtlr1)\n",
    "print('GBDT+LR AUC 3427: %.5f' % gbdt_lr_auc1)"
   ]
  },
  {
   "cell_type": "code",
   "execution_count": null,
   "metadata": {},
   "outputs": [],
   "source": []
  },
  {
   "cell_type": "code",
   "execution_count": null,
   "metadata": {},
   "outputs": [],
   "source": []
  },
  {
   "cell_type": "code",
   "execution_count": null,
   "metadata": {},
   "outputs": [],
   "source": []
  },
  {
   "cell_type": "code",
   "execution_count": null,
   "metadata": {},
   "outputs": [],
   "source": []
  },
  {
   "cell_type": "code",
   "execution_count": 1,
   "metadata": {},
   "outputs": [],
   "source": [
    "import pandas as pd\n",
    "filename = \"adv_train_3476.csv\"\n",
    "adv_train_3476 = pd.read_csv(filename)\n",
    "\n",
    "filename = \"y_train_3476.csv\"\n",
    "y_train_3476 = pd.read_csv(filename)\n",
    "\n",
    "filename = \"adv_val_3476.csv\"\n",
    "adv_val_3476 = pd.read_csv(filename)\n",
    "\n",
    "filename = \"y_val_3476.csv\"\n",
    "y_val_3476 = pd.read_csv(filename)"
   ]
  },
  {
   "cell_type": "code",
   "execution_count": 2,
   "metadata": {},
   "outputs": [],
   "source": [
    "del adv_train_3476['Unnamed: 0']\n",
    "del y_val_3476['Unnamed: 0']\n",
    "del adv_val_3476['Unnamed: 0']\n",
    "del y_train_3476['Unnamed: 0']"
   ]
  },
  {
   "cell_type": "code",
   "execution_count": 3,
   "metadata": {},
   "outputs": [
    {
     "name": "stderr",
     "output_type": "stream",
     "text": [
      "/anaconda3/lib/python3.6/site-packages/sklearn/utils/validation.py:578: DataConversionWarning: A column-vector y was passed when a 1d array was expected. Please change the shape of y to (n_samples, ), for example using ravel().\n",
      "  y = column_or_1d(y, warn=True)\n"
     ]
    },
    {
     "name": "stdout",
     "output_type": "stream",
     "text": [
      "gbdt auc 3476: 0.83989\n"
     ]
    }
   ],
   "source": [
    "from scipy.sparse.construct import hstack\n",
    "from sklearn.model_selection import train_test_split\n",
    "from sklearn.datasets.svmlight_format import load_svmlight_file\n",
    "from sklearn.ensemble.gradient_boosting import GradientBoostingClassifier\n",
    "from sklearn.linear_model.logistic import LogisticRegression\n",
    "from sklearn.metrics.ranking import roc_auc_score\n",
    "from sklearn.preprocessing.data import OneHotEncoder\n",
    "import numpy as np\n",
    "\n",
    "gbdt_3476 = GradientBoostingClassifier(n_estimators=40, max_depth=3, verbose=0,max_features=0.5)\n",
    "\n",
    "gbdt_3476.fit(adv_train_3476, y_train_3476)\n",
    "y_pred_gbdt3476 = gbdt_3476.predict_proba(adv_val_3476)[:, 1]\n",
    "gbdt_auc3476 = roc_auc_score(y_val_3476, y_pred_gbdt3476)\n",
    "print('gbdt auc 3476: %.5f' % gbdt_auc3476)\n"
   ]
  },
  {
   "cell_type": "code",
   "execution_count": 6,
   "metadata": {},
   "outputs": [
    {
     "name": "stderr",
     "output_type": "stream",
     "text": [
      "/anaconda3/lib/python3.6/site-packages/sklearn/utils/validation.py:578: DataConversionWarning: A column-vector y was passed when a 1d array was expected. Please change the shape of y to (n_samples, ), for example using ravel().\n",
      "  y = column_or_1d(y, warn=True)\n"
     ]
    },
    {
     "name": "stdout",
     "output_type": "stream",
     "text": [
      "LR AUC 3476: 0.74270\n"
     ]
    }
   ],
   "source": [
    "\n",
    "from sklearn.linear_model.logistic import LogisticRegression\n",
    "from sklearn.metrics.ranking import roc_auc_score\n",
    "\n",
    "lr = LogisticRegression()\n",
    "lr.fit(adv_train_3476, y_train_3476)    \n",
    "y_pred_test = lr.predict_proba(adv_val_3476)[:, 1]\n",
    "lr_test_auc = roc_auc_score(y_val_3476, y_pred_test)\n",
    "print('LR AUC 3476: %.5f' % lr_test_auc)"
   ]
  },
  {
   "cell_type": "code",
   "execution_count": 4,
   "metadata": {},
   "outputs": [],
   "source": [
    "X_train_leaves = gbdt_3476.apply(adv_train_3476)[:,:,0]\n",
    "X_test_leaves = gbdt_3476.apply(adv_val_3476)[:,:,0]\n",
    "(train_rows, cols) = X_train_leaves.shape\n",
    "gbdtenc = OneHotEncoder()\n",
    "X_trans = gbdtenc.fit_transform(np.concatenate((X_train_leaves, X_test_leaves), axis=0))\n",
    "\n",
    "\n"
   ]
  },
  {
   "cell_type": "code",
   "execution_count": 5,
   "metadata": {},
   "outputs": [
    {
     "name": "stderr",
     "output_type": "stream",
     "text": [
      "/anaconda3/lib/python3.6/site-packages/sklearn/utils/validation.py:578: DataConversionWarning: A column-vector y was passed when a 1d array was expected. Please change the shape of y to (n_samples, ), for example using ravel().\n",
      "  y = column_or_1d(y, warn=True)\n"
     ]
    },
    {
     "name": "stdout",
     "output_type": "stream",
     "text": [
      "GBDT+LR AUC 3476: 0.86027\n"
     ]
    }
   ],
   "source": [
    "lr = LogisticRegression()\n",
    "\n",
    "lr.fit(X_trans[:train_rows, :], y_train_3476)\n",
    "\n",
    "y_pred_gbdtlr1 = lr.predict_proba(X_trans[train_rows:, :])[:, 1]\n",
    "gbdt_lr_auc1 = roc_auc_score(y_val_3476, y_pred_gbdtlr1)\n",
    "print('GBDT+LR AUC 3476: %.5f' % gbdt_lr_auc1)"
   ]
  },
  {
   "cell_type": "code",
   "execution_count": null,
   "metadata": {},
   "outputs": [],
   "source": []
  },
  {
   "cell_type": "code",
   "execution_count": null,
   "metadata": {},
   "outputs": [],
   "source": []
  },
  {
   "cell_type": "code",
   "execution_count": 20,
   "metadata": {},
   "outputs": [],
   "source": [
    "import pandas as pd\n",
    "filename = \"adv_train_3386.csv\"\n",
    "adv_train_3386 = pd.read_csv(filename)\n",
    "\n",
    "filename = \"y_train_3386.csv\"\n",
    "y_train_3386 = pd.read_csv(filename)\n",
    "\n",
    "filename = \"adv_val_3386.csv\"\n",
    "adv_val_3386 = pd.read_csv(filename)\n",
    "\n",
    "filename = \"y_val_3386.csv\"\n",
    "y_val_3386 = pd.read_csv(filename)"
   ]
  },
  {
   "cell_type": "code",
   "execution_count": 21,
   "metadata": {},
   "outputs": [],
   "source": [
    "del adv_train_3386['Unnamed: 0']\n",
    "del y_val_3386['Unnamed: 0']\n",
    "del adv_val_3386['Unnamed: 0']\n",
    "del y_train_3386['Unnamed: 0']"
   ]
  },
  {
   "cell_type": "code",
   "execution_count": 22,
   "metadata": {},
   "outputs": [
    {
     "name": "stderr",
     "output_type": "stream",
     "text": [
      "/anaconda3/lib/python3.6/site-packages/sklearn/utils/validation.py:578: DataConversionWarning: A column-vector y was passed when a 1d array was expected. Please change the shape of y to (n_samples, ), for example using ravel().\n",
      "  y = column_or_1d(y, warn=True)\n"
     ]
    },
    {
     "name": "stdout",
     "output_type": "stream",
     "text": [
      "gbdt auc 3386: 0.73163\n"
     ]
    }
   ],
   "source": [
    "from scipy.sparse.construct import hstack\n",
    "from sklearn.model_selection import train_test_split\n",
    "from sklearn.datasets.svmlight_format import load_svmlight_file\n",
    "from sklearn.ensemble.gradient_boosting import GradientBoostingClassifier\n",
    "from sklearn.linear_model.logistic import LogisticRegression\n",
    "from sklearn.metrics.ranking import roc_auc_score\n",
    "from sklearn.preprocessing.data import OneHotEncoder\n",
    "import numpy as np\n",
    "\n",
    "gbdt_3386 = GradientBoostingClassifier(n_estimators=40, max_depth=3, verbose=0,max_features=0.5)\n",
    "\n",
    "gbdt_3386.fit(adv_train_3386, y_train_3386)\n",
    "y_pred_gbdt3386 = gbdt_3386.predict_proba(adv_val_3386)[:, 1]\n",
    "gbdt_auc3386 = roc_auc_score(y_val_3386, y_pred_gbdt3386)\n",
    "print('gbdt auc 3386: %.5f' % gbdt_auc3386)\n",
    "\n"
   ]
  },
  {
   "cell_type": "code",
   "execution_count": 26,
   "metadata": {},
   "outputs": [
    {
     "name": "stderr",
     "output_type": "stream",
     "text": [
      "/anaconda3/lib/python3.6/site-packages/sklearn/utils/validation.py:578: DataConversionWarning: A column-vector y was passed when a 1d array was expected. Please change the shape of y to (n_samples, ), for example using ravel().\n",
      "  y = column_or_1d(y, warn=True)\n"
     ]
    },
    {
     "name": "stdout",
     "output_type": "stream",
     "text": [
      "LR AUC 3386: 0.61763\n"
     ]
    }
   ],
   "source": [
    "\n",
    "from sklearn.linear_model.logistic import LogisticRegression\n",
    "from sklearn.metrics.ranking import roc_auc_score\n",
    "\n",
    "lr = LogisticRegression()\n",
    "lr.fit(adv_train_3386, y_train_3386)    \n",
    "y_pred_test = lr.predict_proba(adv_val_3386)[:, 1]\n",
    "lr_test_auc = roc_auc_score(y_val_3386, y_pred_test)\n",
    "print('LR AUC 3386: %.5f' % lr_test_auc)"
   ]
  },
  {
   "cell_type": "code",
   "execution_count": 23,
   "metadata": {},
   "outputs": [],
   "source": [
    "X_train_leaves = gbdt_3386.apply(adv_train_3386)[:,:,0]\n",
    "X_test_leaves = gbdt_3386.apply(adv_val_3386)[:,:,0]\n",
    "(train_rows, cols) = X_train_leaves.shape\n",
    "gbdtenc = OneHotEncoder()\n",
    "X_trans = gbdtenc.fit_transform(np.concatenate((X_train_leaves, X_test_leaves), axis=0))"
   ]
  },
  {
   "cell_type": "code",
   "execution_count": 24,
   "metadata": {},
   "outputs": [
    {
     "name": "stderr",
     "output_type": "stream",
     "text": [
      "/anaconda3/lib/python3.6/site-packages/sklearn/utils/validation.py:578: DataConversionWarning: A column-vector y was passed when a 1d array was expected. Please change the shape of y to (n_samples, ), for example using ravel().\n",
      "  y = column_or_1d(y, warn=True)\n"
     ]
    },
    {
     "name": "stdout",
     "output_type": "stream",
     "text": [
      "GBDT+LR AUC 3386: 0.74590\n"
     ]
    }
   ],
   "source": [
    "lr = LogisticRegression()\n",
    "\n",
    "lr.fit(X_trans[:train_rows, :], y_train_3386)\n",
    "\n",
    "y_pred_gbdtlr1 = lr.predict_proba(X_trans[train_rows:, :])[:, 1]\n",
    "gbdt_lr_auc1 = roc_auc_score(y_val_3386, y_pred_gbdtlr1)\n",
    "print('GBDT+LR AUC 3386: %.5f' % gbdt_lr_auc1)"
   ]
  },
  {
   "cell_type": "code",
   "execution_count": null,
   "metadata": {},
   "outputs": [],
   "source": []
  },
  {
   "cell_type": "code",
   "execution_count": null,
   "metadata": {},
   "outputs": [],
   "source": []
  },
  {
   "cell_type": "code",
   "execution_count": 4,
   "metadata": {},
   "outputs": [],
   "source": [
    "import pandas as pd\n",
    "filename = \"X_train.csv\"\n",
    "X_train = pd.read_csv(filename)\n",
    "\n",
    "filename = \"y_train.csv\"\n",
    "y_train = pd.read_csv(filename)\n",
    "\n",
    "filename = \"X_val.csv\"\n",
    "X_val = pd.read_csv(filename)\n",
    "\n",
    "filename = \"y_val.csv\"\n",
    "y_val = pd.read_csv(filename)"
   ]
  },
  {
   "cell_type": "code",
   "execution_count": 5,
   "metadata": {},
   "outputs": [],
   "source": [
    "del X_train['Unnamed: 0']\n",
    "del y_train['Unnamed: 0']\n",
    "del X_val['Unnamed: 0']\n",
    "del y_val['Unnamed: 0']"
   ]
  },
  {
   "cell_type": "code",
   "execution_count": 6,
   "metadata": {},
   "outputs": [
    {
     "name": "stderr",
     "output_type": "stream",
     "text": [
      "/anaconda3/lib/python3.6/site-packages/sklearn/utils/validation.py:578: DataConversionWarning: A column-vector y was passed when a 1d array was expected. Please change the shape of y to (n_samples, ), for example using ravel().\n",
      "  y = column_or_1d(y, warn=True)\n"
     ]
    },
    {
     "name": "stdout",
     "output_type": "stream",
     "text": [
      "gbdt auc total: 0.82685\n"
     ]
    }
   ],
   "source": [
    "from scipy.sparse.construct import hstack\n",
    "from sklearn.model_selection import train_test_split\n",
    "from sklearn.datasets.svmlight_format import load_svmlight_file\n",
    "from sklearn.ensemble.gradient_boosting import GradientBoostingClassifier\n",
    "from sklearn.linear_model.logistic import LogisticRegression\n",
    "from sklearn.metrics.ranking import roc_auc_score\n",
    "from sklearn.preprocessing.data import OneHotEncoder\n",
    "import numpy as np\n",
    "\n",
    "gbdt = GradientBoostingClassifier(n_estimators=40, max_depth=3, verbose=0,max_features=0.5)\n",
    "gbdt.fit(X_train, y_train)\n",
    "y_pred_gbdt = gbdt.predict_proba(np.array(X_val))[:, 1]\n",
    "gbdt_auc = roc_auc_score(y_val, y_pred_gbdt)\n",
    "print('gbdt auc total: %.5f' % gbdt_auc)"
   ]
  },
  {
   "cell_type": "code",
   "execution_count": null,
   "metadata": {},
   "outputs": [],
   "source": [
    "\n",
    "\n"
   ]
  },
  {
   "cell_type": "code",
   "execution_count": 9,
   "metadata": {},
   "outputs": [
    {
     "name": "stderr",
     "output_type": "stream",
     "text": [
      "/anaconda3/lib/python3.6/site-packages/sklearn/utils/validation.py:578: DataConversionWarning: A column-vector y was passed when a 1d array was expected. Please change the shape of y to (n_samples, ), for example using ravel().\n",
      "  y = column_or_1d(y, warn=True)\n"
     ]
    },
    {
     "name": "stdout",
     "output_type": "stream",
     "text": [
      "LR AUC: 0.79856\n"
     ]
    }
   ],
   "source": [
    "\n",
    "from sklearn.linear_model.logistic import LogisticRegression\n",
    "from sklearn.metrics.ranking import roc_auc_score\n",
    "lr = LogisticRegression()\n",
    "lr.fit(X_train, y_train)    # 预测及AUC评测\n",
    "y_pred_test = lr.predict_proba(X_val)[:, 1]\n",
    "lr_test_auc = roc_auc_score(y_val, y_pred_test)\n",
    "print('LR AUC: %.5f' % lr_test_auc)"
   ]
  },
  {
   "cell_type": "code",
   "execution_count": null,
   "metadata": {},
   "outputs": [],
   "source": []
  },
  {
   "cell_type": "code",
   "execution_count": 12,
   "metadata": {},
   "outputs": [],
   "source": [
    "X_train_leaves = gbdt.apply(X_train)[:,:,0]\n",
    "X_test_leaves = gbdt.apply(X_val)[:,:,0]\n",
    "(train_rows, cols) = X_train_leaves.shape\n",
    "gbdtenc = OneHotEncoder()\n",
    "X_trans = gbdtenc.fit_transform(np.concatenate((X_train_leaves, X_test_leaves), axis=0))\n"
   ]
  },
  {
   "cell_type": "code",
   "execution_count": 13,
   "metadata": {},
   "outputs": [
    {
     "name": "stderr",
     "output_type": "stream",
     "text": [
      "/anaconda3/lib/python3.6/site-packages/sklearn/utils/validation.py:578: DataConversionWarning: A column-vector y was passed when a 1d array was expected. Please change the shape of y to (n_samples, ), for example using ravel().\n",
      "  y = column_or_1d(y, warn=True)\n"
     ]
    },
    {
     "name": "stdout",
     "output_type": "stream",
     "text": [
      "GBDT+LR AUC total: 0.85211\n"
     ]
    }
   ],
   "source": [
    "lr = LogisticRegression()\n",
    "\n",
    "lr.fit(X_trans[:train_rows, :], y_train)\n",
    "\n",
    "y_pred_gbdtlr1 = lr.predict_proba(X_trans[train_rows:, :])[:, 1]\n",
    "gbdt_lr_auc1 = roc_auc_score(y_val, y_pred_gbdtlr1)\n",
    "print('GBDT+LR AUC total: %.5f' % gbdt_lr_auc1)"
   ]
  },
  {
   "cell_type": "code",
   "execution_count": 30,
   "metadata": {},
   "outputs": [
    {
     "name": "stderr",
     "output_type": "stream",
     "text": [
      "/anaconda3/lib/python3.6/site-packages/sklearn/utils/validation.py:578: DataConversionWarning: A column-vector y was passed when a 1d array was expected. Please change the shape of y to (n_samples, ), for example using ravel().\n",
      "  y = column_or_1d(y, warn=True)\n",
      "/anaconda3/lib/python3.6/site-packages/sklearn/linear_model/logistic.py:1228: UserWarning: 'n_jobs' > 1 does not have any effect when 'solver' is set to 'liblinear'. Got 'n_jobs' = -1.\n",
      "  \" = {}.\".format(self.n_jobs))\n"
     ]
    },
    {
     "name": "stdout",
     "output_type": "stream",
     "text": [
      "基于组合特征的LR AUC: 0.84427\n"
     ]
    }
   ],
   "source": [
    "# lr.fit(X_train_ext, y_train)\n",
    "# y_pred_gbdtlr2 = lr.predict_proba(X_test_ext)[:, 1]\n",
    "# gbdt_lr_auc2 = roc_auc_score(y_val, y_pred_gbdtlr2)\n",
    "# print('基于组合特征的LR AUC: %.5f' % gbdt_lr_auc2)"
   ]
  },
  {
   "cell_type": "code",
   "execution_count": null,
   "metadata": {},
   "outputs": [],
   "source": [
    "print(y_pred_gbdtlr1)"
   ]
  },
  {
   "cell_type": "code",
   "execution_count": 33,
   "metadata": {},
   "outputs": [],
   "source": []
  },
  {
   "cell_type": "code",
   "execution_count": null,
   "metadata": {},
   "outputs": [],
   "source": [
    "'CPM':df.groupby('advertiser')['payprice'].sum()*1000/(df.groupby('advertiser')['advertiser'].agg('count')*1000)\n",
    "'eCPC':df.groupby('advertiser')['payprice'].sum()/(df.groupby('advertiser')['click'].sum()*1000)"
   ]
  },
  {
   "cell_type": "code",
   "execution_count": null,
   "metadata": {},
   "outputs": [],
   "source": []
  },
  {
   "cell_type": "code",
   "execution_count": null,
   "metadata": {},
   "outputs": [],
   "source": []
  },
  {
   "cell_type": "code",
   "execution_count": 8,
   "metadata": {},
   "outputs": [],
   "source": [
    "import pandas as pd\n",
    "filename = \"validation.csv\"\n",
    "data_val = pd.read_csv(filename)\n",
    "df_val = pd.DataFrame(data_val)\n",
    "\n",
    "import pandas as pd\n",
    "filename = \"train.csv\"\n",
    "data_train = pd.read_csv(filename)\n",
    "df_train = pd.DataFrame(data_train)"
   ]
  },
  {
   "cell_type": "code",
   "execution_count": 12,
   "metadata": {},
   "outputs": [
    {
     "name": "stdout",
     "output_type": "stream",
     "text": [
      "-50 85 0 6250000 119472\n",
      "-49 86 0 6250000 119921\n",
      "-48 87 0 6250000 120365\n",
      "-47 90 0 6250000 120826\n",
      "-46 91 0 6250000 121308\n",
      "-45 93 0 6250000 121773\n",
      "-44 93 0 6250000 122281\n",
      "-43 95 0 6250000 122731\n",
      "-42 96 0 6250000 123205\n",
      "-41 97 0 6250000 123767\n",
      "-40 98 0 6250000 124263\n",
      "-39 98 0 6250000 124792\n",
      "-38 99 0 6250000 125242\n",
      "-37 99 0 6250000 125762\n",
      "-36 99 0 6250000 126337\n",
      "-35 99 0 6250000 126902\n",
      "-34 102 0 6250000 127441\n",
      "-33 103 0 6250000 127936\n",
      "-32 105 0 6250000 128523\n",
      "-31 106 0 6250000 129100\n",
      "-30 106 0 6250000 129580\n",
      "-29 107 0 6250000 130120\n",
      "-28 109 0 6250000 130703\n",
      "-27 110 0 6250000 131185\n",
      "-26 113 0 6250000 131820\n",
      "-25 114 0 6250000 132493\n",
      "-24 113 0 6250000 133122\n",
      "-23 116 0 6250000 133685\n",
      "-22 118 0 6250000 134363\n",
      "-21 117 0 6250000 134989\n",
      "-20 118 0 6250000 135608\n",
      "-19 121 0 6250000 136152\n",
      "-18 123 0 6250000 136628\n",
      "-17 125 0 6250000 137085\n",
      "-16 126 0 6250000 137605\n",
      "-15 127 0 6250000 138141\n",
      "-14 128 0 6250000 138655\n",
      "-13 131 0 6250000 139273\n",
      "-12 131 0 6250000 139890\n",
      "-11 133 0 6250000 140487\n",
      "-10 134 0 6250000 141170\n",
      "-9 139 0 6250000 141853\n",
      "-8 139 0 6250000 142480\n",
      "-7 142 39457 6210543 142114\n",
      "-6 141 165049 6084951 139868\n",
      "-5 140 291982 5958018 137589\n",
      "-4 139 413466 5836534 135341\n",
      "-3 138 532570 5717430 133142\n",
      "-2 137 651657 5598343 130826\n",
      "-1 136 772114 5477886 128545\n",
      "0 135 881412 5368588 126434\n",
      "1 134 994558 5255442 124273\n",
      "2 134 1107046 5142954 122097\n",
      "3 133 1211433 5038567 120072\n",
      "4 133 1317372 4932628 118023\n",
      "5 132 1422313 4827687 115954\n",
      "6 132 1532892 4717108 113800\n",
      "7 132 1635488 4614512 111753\n",
      "8 130 1734534 4515466 109726\n",
      "9 130 1834060 4415940 107636\n",
      "10 130 1933917 4316083 105530\n",
      "11 130 2030924 4219076 103453\n",
      "12 129 2128095 4121905 101344\n",
      "13 129 2225133 4024867 99213\n",
      "14 129 2320035 3929965 97094\n",
      "15 129 2409535 3840465 95030\n",
      "16 129 2497365 3752635 92956\n",
      "17 129 2585591 3664409 90899\n",
      "18 127 2671327 3578673 88836\n",
      "19 127 2753298 3496702 86805\n",
      "20 125 2834246 3415754 84747\n",
      "21 125 2914980 3335020 82792\n",
      "22 125 2989723 3260277 80845\n",
      "23 125 3064488 3185512 78918\n",
      "24 124 3135634 3114366 76996\n",
      "25 123 3205465 3044535 75104\n",
      "26 121 3277357 2972643 73194\n",
      "27 121 3344350 2905650 71347\n",
      "28 121 3409053 2840947 69511\n",
      "29 121 3471203 2778797 67695\n",
      "30 119 3536479 2713521 65816\n",
      "31 119 3598795 2651205 64018\n",
      "32 119 3657625 2592375 62296\n",
      "33 117 3714571 2535429 60664\n",
      "34 114 3766561 2483439 59140\n",
      "35 114 3818600 2431400 57601\n",
      "36 111 3866185 2383815 56167\n",
      "37 109 3913958 2336042 54696\n",
      "38 109 3958962 2291038 53291\n",
      "39 109 4005836 2244164 51822\n",
      "40 109 4049841 2200159 50462\n",
      "41 108 4093598 2156402 49077\n",
      "42 108 4135391 2114609 47787\n",
      "43 107 4177278 2072722 46513\n",
      "44 107 4217930 2032070 45267\n",
      "45 107 4259309 1990691 44051\n",
      "46 107 4297628 1952372 42885\n",
      "47 107 4331582 1918418 41741\n",
      "48 107 4365125 1884875 40658\n",
      "49 107 4398804 1851196 39583\n",
      "50 107 4430696 1819304 38587\n",
      "51 106 4462421 1787579 37598\n",
      "52 106 4492858 1757142 36614\n",
      "53 106 4520866 1729134 35736\n",
      "54 106 4548289 1701711 34874\n",
      "55 105 4572946 1677054 34063\n",
      "56 105 4599625 1650375 33255\n",
      "57 105 4625860 1624140 32463\n",
      "58 105 4651671 1598329 31682\n",
      "59 105 4675755 1574245 30943\n",
      "60 105 4697053 1552947 30276\n",
      "61 105 4718040 1531960 29615\n",
      "62 105 4738368 1511632 28990\n",
      "63 104 4757624 1492376 28423\n",
      "64 104 4777923 1472077 27839\n",
      "65 104 4795533 1454467 27309\n",
      "66 104 4812830 1437170 26775\n",
      "67 104 4831313 1418687 26251\n",
      "68 104 4849435 1400565 25780\n",
      "69 104 4865278 1384722 25318\n"
     ]
    }
   ],
   "source": [
    "avgCTR = df_train['click'].sum()/df_train['click'].agg('count')\n",
    "base = df_train['payprice'].sum()/df_train['payprice'].agg('count')\n",
    "for i in range(-50,70):\n",
    "    sum = 6250 * 1000\n",
    "    clicks = 0\n",
    "    payprices = 0\n",
    "    num = 0\n",
    "    for pay,click,predict in zip(df_val[\"payprice\"],df_val['click'],y_pred_test):\n",
    "        sum_sub = sum - pay\n",
    "        bidprice = (base * predict/avgCTR)-i\n",
    "        if bidprice-pay > 0 and sum_sub >= 0:\n",
    "            sum = sum_sub\n",
    "            clicks += click\n",
    "            payprices += pay\n",
    "            num += 1\n",
    "    print(i, clicks, sum, payprices, num)"
   ]
  },
  {
   "cell_type": "code",
   "execution_count": 17,
   "metadata": {},
   "outputs": [
    {
     "name": "stdout",
     "output_type": "stream",
     "text": [
      "LR CPM:  43.701134300631885\n",
      "LR CPC:  43.736218309859154\n"
     ]
    }
   ],
   "source": [
    "print('LR CPM: ',6210543/142114) \n",
    "print('LR CPC: ',6210543/(142*1000))"
   ]
  },
  {
   "cell_type": "code",
   "execution_count": 9,
   "metadata": {},
   "outputs": [
    {
     "name": "stdout",
     "output_type": "stream",
     "text": [
      "-50 90 0 6250000 127576\n",
      "-49 92 0 6250000 128289\n",
      "-48 93 0 6250000 129206\n",
      "-47 94 0 6250000 130138\n",
      "-46 95 0 6250000 130803\n",
      "-45 95 0 6250000 131632\n",
      "-44 98 0 6250000 132774\n",
      "-43 100 0 6250000 133686\n",
      "-42 103 0 6250000 134700\n",
      "-41 103 0 6250000 135506\n",
      "-40 103 0 6250000 136557\n",
      "-39 106 0 6250000 137720\n",
      "-38 108 0 6250000 138759\n",
      "-37 110 0 6250000 140032\n",
      "-36 110 0 6250000 140894\n",
      "-35 110 0 6250000 141824\n",
      "-34 113 0 6250000 143186\n",
      "-33 113 0 6250000 145063\n",
      "-32 116 0 6250000 146205\n",
      "-31 119 0 6250000 147267\n",
      "-30 121 0 6250000 148744\n",
      "-29 122 0 6250000 151019\n",
      "-28 124 0 6250000 153006\n",
      "-27 125 0 6250000 154250\n",
      "-26 127 0 6250000 155592\n",
      "-25 135 0 6250000 157340\n",
      "-24 140 0 6250000 158846\n",
      "-23 140 235165 6014835 155348\n",
      "-22 140 382409 5867591 153036\n",
      "-21 139 481937 5768063 151402\n",
      "-20 138 665417 5584583 148453\n",
      "-19 138 814158 5435842 146030\n",
      "-18 134 994001 5255999 143004\n",
      "-17 133 1128852 5121148 140699\n",
      "-16 133 1272352 4977648 138293\n",
      "-15 130 1442376 4807624 135491\n",
      "-14 130 1581719 4668281 132930\n",
      "-13 130 1798351 4451649 129168\n",
      "-12 130 1957343 4292657 126304\n",
      "-11 128 2083465 4166535 124056\n",
      "-10 127 2190024 4059976 122129\n",
      "-9 127 2348174 3901826 119152\n",
      "-8 125 2445322 3804678 117293\n",
      "-7 123 2582588 3667412 114526\n",
      "-6 123 2685524 3564476 112576\n",
      "-5 121 2768387 3481613 110850\n",
      "-4 121 2861217 3388783 108953\n",
      "-3 121 2973273 3276727 106618\n",
      "-2 121 3057134 3192866 104803\n",
      "-1 121 3146693 3103307 102868\n"
     ]
    }
   ],
   "source": [
    "avgCTR = df_train['click'].sum()/df_train['click'].agg('count')\n",
    "base = df_train['payprice'].sum()/df_train['payprice'].agg('count')\n",
    "for i in range(-50,0):\n",
    "    sum = 6250 * 1000\n",
    "    clicks = 0\n",
    "    payprices = 0\n",
    "    num = 0\n",
    "    for pay,click,predict in zip(df_val[\"payprice\"],df_val['click'],y_pred_gbdt):\n",
    "        sum_sub = sum - pay\n",
    "        bidprice = (base * predict/avgCTR)-i\n",
    "        if bidprice-pay > 0 and sum_sub >= 0:\n",
    "            sum = sum_sub\n",
    "            clicks += click\n",
    "            payprices += pay\n",
    "            num += 1\n",
    "    print(i, clicks, sum, payprices, num)"
   ]
  },
  {
   "cell_type": "code",
   "execution_count": 11,
   "metadata": {},
   "outputs": [
    {
     "name": "stdout",
     "output_type": "stream",
     "text": [
      "GBDT CPM:  39.34628508114778\n",
      "GBDT CPC:  44.642857142857146\n"
     ]
    }
   ],
   "source": [
    "print('GBDT CPM: ',6250000/158846) \n",
    "print('GBDT CPC: ',6250000/140000)\n",
    "\n"
   ]
  },
  {
   "cell_type": "code",
   "execution_count": 14,
   "metadata": {},
   "outputs": [
    {
     "name": "stdout",
     "output_type": "stream",
     "text": [
      "-50 110 0 6250000 131670\n",
      "-49 111 0 6250000 132276\n",
      "-48 112 0 6250000 133063\n",
      "-47 115 0 6250000 133744\n",
      "-46 117 0 6250000 134890\n",
      "-45 121 0 6250000 135492\n",
      "-44 121 0 6250000 136123\n",
      "-43 120 0 6250000 136753\n",
      "-42 120 0 6250000 137274\n",
      "-41 122 0 6250000 137894\n",
      "-40 125 0 6250000 138452\n",
      "-39 127 0 6250000 139255\n",
      "-38 129 0 6250000 140498\n",
      "-37 130 0 6250000 141310\n",
      "-36 134 0 6250000 142517\n",
      "-35 136 0 6250000 143591\n",
      "-34 136 0 6250000 144219\n",
      "-33 137 0 6250000 144919\n",
      "-32 138 0 6250000 145652\n",
      "-31 139 0 6250000 146400\n",
      "-30 141 0 6250000 147035\n",
      "-29 147 0 6250000 148036\n",
      "-28 152 0 6250000 149438\n",
      "-27 155 20679 6229321 149804\n",
      "-26 155 104162 6145838 148281\n",
      "-25 153 309736 5940264 145105\n",
      "-24 153 423031 5826969 142946\n",
      "-23 151 531246 5718754 141051\n",
      "-22 151 706285 5543715 138086\n",
      "-21 150 799465 5450535 136244\n",
      "-20 149 900429 5349571 134350\n",
      "-19 148 1039637 5210363 131742\n",
      "-18 147 1159379 5090621 129319\n",
      "-17 147 1270957 4979043 126938\n",
      "-16 147 1379414 4870586 124526\n",
      "-15 145 1541960 4708040 121301\n",
      "-14 145 1656749 4593251 118826\n",
      "-13 144 1770584 4479416 116267\n",
      "-12 144 1919389 4330611 113495\n",
      "-11 144 2007786 4242214 111377\n",
      "-10 142 2127526 4122474 108908\n",
      "-9 142 2228974 4021026 106680\n",
      "-8 142 2343080 3906920 104189\n",
      "-7 142 2409592 3840408 102488\n",
      "-6 142 2483660 3766340 100604\n",
      "-5 142 2635323 3614677 97086\n",
      "-4 141 2717489 3532511 94661\n",
      "-3 139 2810336 3439664 92444\n",
      "-2 139 2892564 3357436 89822\n",
      "-1 139 2961903 3288097 87695\n",
      "0 138 3061777 3188223 84926\n",
      "1 136 3134408 3115592 82675\n",
      "2 135 3222088 3027912 80294\n",
      "3 134 3309603 2940397 78066\n",
      "4 134 3373501 2876499 75990\n",
      "5 132 3463763 2786237 73629\n",
      "6 132 3528881 2721119 71544\n",
      "7 132 3631770 2618230 69059\n",
      "8 131 3685246 2564754 67270\n",
      "9 131 3753860 2496140 65316\n",
      "10 131 3808682 2441318 63621\n",
      "11 130 3885534 2364466 61572\n",
      "12 130 3935146 2314854 60016\n",
      "13 128 3985531 2264469 58413\n",
      "14 128 4031543 2218457 56585\n",
      "15 128 4094652 2155348 54818\n",
      "16 127 4171508 2078492 51902\n",
      "17 127 4211009 2038991 50408\n",
      "18 126 4258285 1991715 48983\n",
      "19 124 4324269 1925731 46740\n",
      "20 124 4359387 1890613 45643\n",
      "21 122 4385395 1864605 44628\n",
      "22 122 4420419 1829581 43401\n",
      "23 122 4446236 1803764 42324\n",
      "24 121 4473551 1776449 41220\n",
      "25 120 4521376 1728624 40000\n",
      "26 120 4554503 1695497 38877\n",
      "27 119 4579625 1670375 37855\n",
      "28 119 4608185 1641815 36957\n",
      "29 119 4652118 1597882 35590\n",
      "30 118 4688281 1561719 34117\n",
      "31 118 4708969 1541031 33138\n",
      "32 116 4739036 1510964 32074\n",
      "33 116 4767278 1482722 31277\n",
      "34 116 4784962 1465038 30529\n",
      "35 115 4823008 1426992 29606\n",
      "36 114 4856150 1393850 28850\n",
      "37 114 4880974 1369026 28086\n",
      "38 114 4894316 1355684 27626\n",
      "39 114 4906153 1343847 27201\n",
      "40 114 4924261 1325739 26659\n",
      "41 114 4938486 1311514 26266\n",
      "42 114 4985699 1264301 24632\n",
      "43 114 5013966 1236034 23783\n",
      "44 114 5030152 1219848 23239\n",
      "45 112 5042991 1207009 22743\n",
      "46 112 5055567 1194433 22271\n",
      "47 112 5064516 1185484 22008\n",
      "48 112 5080928 1169072 21421\n",
      "49 112 5091590 1158410 21101\n",
      "50 112 5107467 1142533 20732\n",
      "51 112 5118616 1131384 20403\n",
      "52 112 5133090 1116910 20036\n",
      "53 110 5149225 1100775 19696\n",
      "54 110 5156330 1093670 19453\n",
      "55 110 5170514 1079486 19070\n",
      "56 110 5180272 1069728 18729\n",
      "57 110 5187756 1062244 18335\n",
      "58 110 5195071 1054929 18057\n",
      "59 109 5206830 1043170 17830\n",
      "60 109 5227348 1022652 17437\n",
      "61 109 5236168 1013832 17008\n",
      "62 109 5252882 997118 16663\n",
      "63 109 5265757 984243 16381\n",
      "64 109 5271487 978513 16264\n",
      "65 108 5275640 974360 16171\n",
      "66 108 5281752 968248 16009\n",
      "67 108 5286311 963689 15883\n",
      "68 108 5293815 956185 15722\n",
      "69 108 5324272 925728 15271\n",
      "70 108 5328606 921394 15175\n",
      "71 108 5333072 916928 15090\n",
      "72 108 5338032 911968 14988\n",
      "73 108 5355783 894217 14681\n",
      "74 108 5360617 889383 14572\n",
      "75 108 5365514 884486 14479\n",
      "76 108 5370480 879520 14376\n",
      "77 108 5377390 872610 14254\n",
      "78 107 5383565 866435 14146\n",
      "79 107 5387945 862055 14040\n",
      "80 107 5392179 857821 13954\n",
      "81 107 5399281 850719 13830\n",
      "82 107 5402832 847168 13771\n",
      "83 107 5407718 842282 13667\n",
      "84 107 5413475 836525 13560\n",
      "85 107 5417984 832016 13452\n",
      "86 107 5423832 826168 13363\n",
      "87 107 5427175 822825 13307\n",
      "88 107 5431318 818682 13219\n",
      "89 106 5437427 812573 13129\n",
      "90 105 5440042 809958 13074\n",
      "91 105 5444538 805462 12990\n",
      "92 105 5448390 801610 12926\n",
      "93 105 5454088 795912 12840\n",
      "94 105 5458972 791028 12757\n",
      "95 105 5463935 786065 12684\n",
      "96 105 5468671 781329 12623\n",
      "97 105 5472146 777854 12567\n",
      "98 105 5475757 774243 12506\n",
      "99 105 5482917 767083 12390\n"
     ]
    }
   ],
   "source": [
    "avgCTR = df_train['click'].sum()/df_train['click'].agg('count')\n",
    "base = df_train['payprice'].sum()/df_train['payprice'].agg('count')\n",
    "for i in range(-50,100):\n",
    "    sum = 6250 * 1000\n",
    "    clicks = 0\n",
    "    payprices = 0\n",
    "    num = 0\n",
    "    for pay,click,predict in zip(df_val[\"payprice\"],df_val['click'],y_pred_gbdtlr1):\n",
    "        sum_sub = sum - pay\n",
    "        bidprice = (base * predict/avgCTR)-i\n",
    "        if bidprice-pay > 0 and sum_sub >= 0:\n",
    "            sum = sum_sub\n",
    "            clicks += click\n",
    "            payprices += pay\n",
    "            num += 1\n",
    "    print(i, clicks, sum, payprices, num)"
   ]
  },
  {
   "cell_type": "code",
   "execution_count": 15,
   "metadata": {},
   "outputs": [
    {
     "name": "stdout",
     "output_type": "stream",
     "text": [
      "GBDT+LR CPM:  41.583141972176975\n",
      "GBDT+LR CPC:  40.189167741935485\n"
     ]
    }
   ],
   "source": [
    "print('GBDT+LR CPM: ',6229321/149804) \n",
    "print('GBDT+LR CPC: ',6229321/155000)"
   ]
  },
  {
   "cell_type": "code",
   "execution_count": null,
   "metadata": {},
   "outputs": [],
   "source": []
  },
  {
   "cell_type": "code",
   "execution_count": null,
   "metadata": {},
   "outputs": [],
   "source": []
  },
  {
   "cell_type": "code",
   "execution_count": 18,
   "metadata": {},
   "outputs": [],
   "source": [
    "import pandas as pd\n",
    "filename = \"test.csv\"\n",
    "columns = ('hour','weekday','useragent', 'slotprice', 'region', 'city', 'slotwidth', 'slotheight', 'advertiser', 'usertag')\n",
    "df_test = pd.read_csv(filename,usecols=columns)\n",
    "df_test.insert(1,'browser',df_test['useragent'])\n",
    "browsers = []\n",
    "for name in df_test[\"useragent\"].map(lambda x:x.split('_')[1:][0]):\n",
    "    if name not in browsers:\n",
    "        browsers.append(name)\n",
    "data_bro = []\n",
    "for bro in df_test[\"useragent\"].map(lambda x:x.split('_')[1:][0]):\n",
    "    data_bro.append(browsers.index(bro))\n",
    "df_test['browser'] = data_bro\n",
    "    \n",
    "df_test.insert(1,'os',df_test['useragent'])\n",
    "\n",
    "oss = []\n",
    "for name in df_test[\"useragent\"].map(lambda x:x.split('_')[0]):\n",
    "    if name not in oss:\n",
    "        oss.append(name)\n",
    "data_os = []\n",
    "for os in df_test[\"useragent\"].map(lambda x:x.split('_')[0]):\n",
    "    data_os.append(oss.index(os))\n",
    "df_test['os'] = data_os\n",
    "\n",
    "df_test.insert(1,'size',df_test['slotwidth'])\n",
    "width = df_test['slotwidth'].astype('str')\n",
    "height = df_test['slotheight'].astype('str')\n",
    "size = width.str.cat(height, sep='*')\n",
    "df_test['size']=size\n",
    "\n",
    "\n",
    "del df_test['slotwidth']\n",
    "del df_test['slotheight']\n",
    "\n",
    "df_test.insert(1,'floorprice',df_test['slotprice'])\n",
    "floor = []\n",
    "for i in df_test[\"slotprice\"]:\n",
    "    if i in range(1,10):\n",
    "        floor.append(1)\n",
    "    elif i in range(11,50):\n",
    "        floor.append(2)\n",
    "    elif i in range(51,100):\n",
    "        floor.append(3)\n",
    "    elif i == 0:\n",
    "        floor.append(0)\n",
    "    else:\n",
    "        floor.append(4)\n",
    "df_test['floorprice'] = floor \n",
    "col = ['slotprice','size', 'os', 'browser']\n",
    "for column in col: \n",
    "    df_test[column]= pd.factorize(df_test[column].values , sort=True)[0] + 1\n",
    "df_test['advertiser_n']= pd.factorize(df_test['advertiser'].values , sort=True)[0] + 1\n",
    "\n",
    "\n",
    "import collections\n",
    "users = collections.defaultdict()\n",
    "i = 0\n",
    "for user in df_test[\"usertag\"]:\n",
    "    users[i] = str(user).split(',')\n",
    "    i += 1\n",
    "s = pd.Series(users)\n",
    "usrtag = pd.get_dummies(s.apply(pd.Series).stack()).sum(level=0)\n",
    "del df_test[\"usertag\"]\n",
    "\n",
    "# dummy_price = pd.get_dummies(df_test['floorprice'], prefix='floorprice')  \n",
    "# dummy_os = pd.get_dummies(df_test['os'], prefix='os')  \n",
    "# dummy_browser = pd.get_dummies(df_test['browser'], prefix='browser')  \n",
    "# dummy_weekday = pd.get_dummies(df_test['weekday'], prefix='weekday') \n",
    "# dummy_hour = pd.get_dummies(df_test['hour'], prefix='hour') \n",
    "# # cols_to_keep = ['click'] \n",
    "# data_test = df_test.join(dummy_price)\n",
    "# data_test = data_test.join(dummy_os)\n",
    "# data_test = data_test.join(dummy_browser)\n",
    "# data_test = data_test.join(dummy_weekday)\n",
    "# data_test = data_test.join(dummy_hour)\n",
    "# data_test = data_test.join(usrtag)\n",
    "\n",
    "\n",
    "data_test = df_test.join(usrtag)"
   ]
  },
  {
   "cell_type": "code",
   "execution_count": 19,
   "metadata": {},
   "outputs": [],
   "source": [
    "del data_test['nan']\n",
    "del data_test['useragent']"
   ]
  },
  {
   "cell_type": "code",
   "execution_count": 23,
   "metadata": {},
   "outputs": [],
   "source": [
    "del data_test['advertiser']"
   ]
  },
  {
   "cell_type": "code",
   "execution_count": 24,
   "metadata": {},
   "outputs": [],
   "source": [
    "X_t = data_test\n",
    "X_t_lr = data_test"
   ]
  },
  {
   "cell_type": "code",
   "execution_count": 25,
   "metadata": {},
   "outputs": [
    {
     "data": {
      "text/html": [
       "<div>\n",
       "<style scoped>\n",
       "    .dataframe tbody tr th:only-of-type {\n",
       "        vertical-align: middle;\n",
       "    }\n",
       "\n",
       "    .dataframe tbody tr th {\n",
       "        vertical-align: top;\n",
       "    }\n",
       "\n",
       "    .dataframe thead th {\n",
       "        text-align: right;\n",
       "    }\n",
       "</style>\n",
       "<table border=\"1\" class=\"dataframe\">\n",
       "  <thead>\n",
       "    <tr style=\"text-align: right;\">\n",
       "      <th></th>\n",
       "      <th>weekday</th>\n",
       "      <th>floorprice</th>\n",
       "      <th>size</th>\n",
       "      <th>os</th>\n",
       "      <th>browser</th>\n",
       "      <th>hour</th>\n",
       "      <th>region</th>\n",
       "      <th>city</th>\n",
       "      <th>slotprice</th>\n",
       "      <th>advertiser_n</th>\n",
       "      <th>...</th>\n",
       "      <th>13866</th>\n",
       "      <th>13874</th>\n",
       "      <th>14273</th>\n",
       "      <th>15398</th>\n",
       "      <th>16593</th>\n",
       "      <th>16617</th>\n",
       "      <th>16661</th>\n",
       "      <th>16706</th>\n",
       "      <th>16751</th>\n",
       "      <th>16753</th>\n",
       "    </tr>\n",
       "  </thead>\n",
       "  <tbody>\n",
       "    <tr>\n",
       "      <th>0</th>\n",
       "      <td>0</td>\n",
       "      <td>4</td>\n",
       "      <td>13</td>\n",
       "      <td>1</td>\n",
       "      <td>1</td>\n",
       "      <td>12</td>\n",
       "      <td>146</td>\n",
       "      <td>159</td>\n",
       "      <td>8</td>\n",
       "      <td>8</td>\n",
       "      <td>...</td>\n",
       "      <td>0</td>\n",
       "      <td>0</td>\n",
       "      <td>0</td>\n",
       "      <td>0</td>\n",
       "      <td>0</td>\n",
       "      <td>0</td>\n",
       "      <td>0</td>\n",
       "      <td>0</td>\n",
       "      <td>0</td>\n",
       "      <td>0</td>\n",
       "    </tr>\n",
       "    <tr>\n",
       "      <th>1</th>\n",
       "      <td>3</td>\n",
       "      <td>1</td>\n",
       "      <td>16</td>\n",
       "      <td>2</td>\n",
       "      <td>2</td>\n",
       "      <td>14</td>\n",
       "      <td>1</td>\n",
       "      <td>1</td>\n",
       "      <td>3</td>\n",
       "      <td>5</td>\n",
       "      <td>...</td>\n",
       "      <td>0</td>\n",
       "      <td>0</td>\n",
       "      <td>0</td>\n",
       "      <td>0</td>\n",
       "      <td>0</td>\n",
       "      <td>0</td>\n",
       "      <td>0</td>\n",
       "      <td>0</td>\n",
       "      <td>0</td>\n",
       "      <td>0</td>\n",
       "    </tr>\n",
       "    <tr>\n",
       "      <th>2</th>\n",
       "      <td>5</td>\n",
       "      <td>0</td>\n",
       "      <td>17</td>\n",
       "      <td>1</td>\n",
       "      <td>3</td>\n",
       "      <td>19</td>\n",
       "      <td>27</td>\n",
       "      <td>34</td>\n",
       "      <td>1</td>\n",
       "      <td>1</td>\n",
       "      <td>...</td>\n",
       "      <td>1</td>\n",
       "      <td>0</td>\n",
       "      <td>0</td>\n",
       "      <td>0</td>\n",
       "      <td>0</td>\n",
       "      <td>0</td>\n",
       "      <td>0</td>\n",
       "      <td>0</td>\n",
       "      <td>0</td>\n",
       "      <td>0</td>\n",
       "    </tr>\n",
       "    <tr>\n",
       "      <th>3</th>\n",
       "      <td>0</td>\n",
       "      <td>2</td>\n",
       "      <td>27</td>\n",
       "      <td>1</td>\n",
       "      <td>3</td>\n",
       "      <td>21</td>\n",
       "      <td>238</td>\n",
       "      <td>245</td>\n",
       "      <td>28</td>\n",
       "      <td>4</td>\n",
       "      <td>...</td>\n",
       "      <td>0</td>\n",
       "      <td>0</td>\n",
       "      <td>0</td>\n",
       "      <td>0</td>\n",
       "      <td>0</td>\n",
       "      <td>0</td>\n",
       "      <td>0</td>\n",
       "      <td>0</td>\n",
       "      <td>0</td>\n",
       "      <td>0</td>\n",
       "    </tr>\n",
       "    <tr>\n",
       "      <th>4</th>\n",
       "      <td>2</td>\n",
       "      <td>4</td>\n",
       "      <td>13</td>\n",
       "      <td>1</td>\n",
       "      <td>3</td>\n",
       "      <td>20</td>\n",
       "      <td>27</td>\n",
       "      <td>35</td>\n",
       "      <td>48</td>\n",
       "      <td>7</td>\n",
       "      <td>...</td>\n",
       "      <td>0</td>\n",
       "      <td>0</td>\n",
       "      <td>0</td>\n",
       "      <td>0</td>\n",
       "      <td>0</td>\n",
       "      <td>0</td>\n",
       "      <td>0</td>\n",
       "      <td>0</td>\n",
       "      <td>0</td>\n",
       "      <td>0</td>\n",
       "    </tr>\n",
       "  </tbody>\n",
       "</table>\n",
       "<p>5 rows × 78 columns</p>\n",
       "</div>"
      ],
      "text/plain": [
       "   weekday  floorprice  size  os  browser  hour  region  city  slotprice  \\\n",
       "0        0           4    13   1        1    12     146   159          8   \n",
       "1        3           1    16   2        2    14       1     1          3   \n",
       "2        5           0    17   1        3    19      27    34          1   \n",
       "3        0           2    27   1        3    21     238   245         28   \n",
       "4        2           4    13   1        3    20      27    35         48   \n",
       "\n",
       "   advertiser_n  ...    13866  13874  14273  15398  16593  16617  16661  \\\n",
       "0             8  ...        0      0      0      0      0      0      0   \n",
       "1             5  ...        0      0      0      0      0      0      0   \n",
       "2             1  ...        1      0      0      0      0      0      0   \n",
       "3             4  ...        0      0      0      0      0      0      0   \n",
       "4             7  ...        0      0      0      0      0      0      0   \n",
       "\n",
       "   16706  16751  16753  \n",
       "0      0      0      0  \n",
       "1      0      0      0  \n",
       "2      0      0      0  \n",
       "3      0      0      0  \n",
       "4      0      0      0  \n",
       "\n",
       "[5 rows x 78 columns]"
      ]
     },
     "execution_count": 25,
     "metadata": {},
     "output_type": "execute_result"
    }
   ],
   "source": [
    "X_t.head()"
   ]
  },
  {
   "cell_type": "code",
   "execution_count": 26,
   "metadata": {},
   "outputs": [],
   "source": [
    "X_train_leaves = gbdt.apply(X_train)[:,:,0]\n",
    "X_test_leaves = gbdt.apply(X_t)[:,:,0]\n",
    "(train_rows, cols) = X_train_leaves.shape\n",
    "gbdtenc = OneHotEncoder()\n",
    "X_trans = gbdtenc.fit_transform(np.concatenate((X_train_leaves, X_test_leaves), axis=0))\n",
    "\n"
   ]
  },
  {
   "cell_type": "code",
   "execution_count": 40,
   "metadata": {},
   "outputs": [
    {
     "name": "stderr",
     "output_type": "stream",
     "text": [
      "/anaconda3/lib/python3.6/site-packages/sklearn/utils/validation.py:578: DataConversionWarning: A column-vector y was passed when a 1d array was expected. Please change the shape of y to (n_samples, ), for example using ravel().\n",
      "  y = column_or_1d(y, warn=True)\n"
     ]
    }
   ],
   "source": [
    "lr = LogisticRegression()\n",
    "\n",
    "lr.fit(X_trans[:train_rows, :], y_train)\n",
    "\n",
    "y_pred_gbdtlr1 = lr.predict_proba(X_trans[train_rows:, :])[:, 1]\n",
    "\n"
   ]
  },
  {
   "cell_type": "code",
   "execution_count": 27,
   "metadata": {},
   "outputs": [],
   "source": [
    "import pandas as pd\n",
    "\n",
    "\n",
    "filename = \"train.csv\"\n",
    "df_train = pd.read_csv(filename)\n",
    "\n",
    "filename = \"test.csv\"\n",
    "data_test = pd.read_csv(filename)\n",
    "\n",
    "avgCTR = df_train['click'].sum()/df_train['click'].agg('count')\n",
    "base = df_train['payprice'].sum()/df_train['payprice'].agg('count')"
   ]
  },
  {
   "cell_type": "code",
   "execution_count": 28,
   "metadata": {},
   "outputs": [],
   "source": [
    "# sum = 6250 * 1000\n",
    "result_id = []\n",
    "result_price = []\n",
    "for bidid,predict in zip(data_test['bidid'],y_pred_gbdtlr1):\n",
    "    bidprice = (base * predict/avgCTR)+27\n",
    "    result_id.append(bidid)\n",
    "    result_price.append(bidprice)\n",
    "result=pd.DataFrame({'bidid':result_id,\n",
    "                     'bidprice':result_price})\n",
    "result.to_csv('result_click155.csv')"
   ]
  },
  {
   "cell_type": "code",
   "execution_count": null,
   "metadata": {},
   "outputs": [],
   "source": []
  },
  {
   "cell_type": "code",
   "execution_count": null,
   "metadata": {},
   "outputs": [],
   "source": []
  }
 ],
 "metadata": {
  "kernelspec": {
   "display_name": "Python 3",
   "language": "python",
   "name": "python3"
  },
  "language_info": {
   "codemirror_mode": {
    "name": "ipython",
    "version": 3
   },
   "file_extension": ".py",
   "mimetype": "text/x-python",
   "name": "python",
   "nbconvert_exporter": "python",
   "pygments_lexer": "ipython3",
   "version": "3.6.4"
  }
 },
 "nbformat": 4,
 "nbformat_minor": 2
}
